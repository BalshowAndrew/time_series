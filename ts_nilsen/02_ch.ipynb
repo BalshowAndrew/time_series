{
 "cells": [
  {
   "cell_type": "markdown",
   "id": "7fdccf2c-496d-4e15-a443-9acc3738aba6",
   "metadata": {},
   "source": [
    "# Глава 2. Распознавание и обработка временных рядов"
   ]
  },
  {
   "cell_type": "code",
   "execution_count": 1,
   "id": "0dccd1bf-c8ac-485f-b40a-b076154d1e39",
   "metadata": {},
   "outputs": [],
   "source": [
    "import numpy as np\n",
    "import pandas as pd"
   ]
  },
  {
   "cell_type": "markdown",
   "id": "46884f08-0bb0-42a7-9836-35b75070b291",
   "metadata": {},
   "source": [
    "## Учебная дазача: Получение временных рядов"
   ]
  },
  {
   "cell_type": "markdown",
   "id": "5f49d176-6566-41c0-8946-74de9b0cc627",
   "metadata": {},
   "source": [
    "### Загрузим данные"
   ]
  },
  {
   "cell_type": "code",
   "execution_count": 2,
   "id": "e15cc80a-2c6c-48dc-be04-5efb491bfe41",
   "metadata": {},
   "outputs": [],
   "source": [
    "year_joined = pd.read_csv(\"data_nilsen/year_joined.csv\")\n",
    "emails = pd.read_csv(\"data_nilsen/emails.csv\")\n",
    "donations = pd.read_csv(\"data_nilsen/donations.csv\")"
   ]
  },
  {
   "cell_type": "markdown",
   "id": "65e1edc1-d61d-4856-93bc-f28ca0019e88",
   "metadata": {},
   "source": [
    "Сначала в имеюшихся данных надо определить временные оси."
   ]
  },
  {
   "cell_type": "markdown",
   "id": "8a65015b-80bb-40fe-bd2e-09aa9314b662",
   "metadata": {},
   "source": [
    "### DataFrame year_joined"
   ]
  },
  {
   "cell_type": "code",
   "execution_count": 3,
   "id": "66c1904f-a053-4fe6-b67f-e55789184d86",
   "metadata": {},
   "outputs": [
    {
     "data": {
      "text/html": [
       "<div>\n",
       "<style scoped>\n",
       "    .dataframe tbody tr th:only-of-type {\n",
       "        vertical-align: middle;\n",
       "    }\n",
       "\n",
       "    .dataframe tbody tr th {\n",
       "        vertical-align: top;\n",
       "    }\n",
       "\n",
       "    .dataframe thead th {\n",
       "        text-align: right;\n",
       "    }\n",
       "</style>\n",
       "<table border=\"1\" class=\"dataframe\">\n",
       "  <thead>\n",
       "    <tr style=\"text-align: right;\">\n",
       "      <th></th>\n",
       "      <th>user</th>\n",
       "      <th>userStats</th>\n",
       "      <th>yearJoined</th>\n",
       "    </tr>\n",
       "  </thead>\n",
       "  <tbody>\n",
       "    <tr>\n",
       "      <th>0</th>\n",
       "      <td>0</td>\n",
       "      <td>silver</td>\n",
       "      <td>2014</td>\n",
       "    </tr>\n",
       "    <tr>\n",
       "      <th>1</th>\n",
       "      <td>1</td>\n",
       "      <td>silver</td>\n",
       "      <td>2015</td>\n",
       "    </tr>\n",
       "    <tr>\n",
       "      <th>2</th>\n",
       "      <td>2</td>\n",
       "      <td>silver</td>\n",
       "      <td>2016</td>\n",
       "    </tr>\n",
       "    <tr>\n",
       "      <th>3</th>\n",
       "      <td>3</td>\n",
       "      <td>bronze</td>\n",
       "      <td>2018</td>\n",
       "    </tr>\n",
       "    <tr>\n",
       "      <th>4</th>\n",
       "      <td>4</td>\n",
       "      <td>silver</td>\n",
       "      <td>2018</td>\n",
       "    </tr>\n",
       "  </tbody>\n",
       "</table>\n",
       "</div>"
      ],
      "text/plain": [
       "   user userStats  yearJoined\n",
       "0     0    silver        2014\n",
       "1     1    silver        2015\n",
       "2     2    silver        2016\n",
       "3     3    bronze        2018\n",
       "4     4    silver        2018"
      ]
     },
     "execution_count": 3,
     "metadata": {},
     "output_type": "execute_result"
    }
   ],
   "source": [
    "year_joined.head()"
   ]
  },
  {
   "cell_type": "markdown",
   "id": "929cf8d5-cfcd-46e1-8902-2000d4386c74",
   "metadata": {},
   "source": [
    "Надо увостовериться, что текущий статус пользователя определяется его годовым, а не другим, более краткосрочным статусом.\n",
    "\n",
    "Для этого смотрим, сколько записей имеет каждый пользователь:"
   ]
  },
  {
   "cell_type": "code",
   "execution_count": 4,
   "id": "150f0c0b-294a-4e95-a3f2-fdf5aece4ebc",
   "metadata": {},
   "outputs": [
    {
     "data": {
      "text/html": [
       "<div>\n",
       "<style scoped>\n",
       "    .dataframe tbody tr th:only-of-type {\n",
       "        vertical-align: middle;\n",
       "    }\n",
       "\n",
       "    .dataframe tbody tr th {\n",
       "        vertical-align: top;\n",
       "    }\n",
       "\n",
       "    .dataframe thead th {\n",
       "        text-align: right;\n",
       "    }\n",
       "</style>\n",
       "<table border=\"1\" class=\"dataframe\">\n",
       "  <thead>\n",
       "    <tr style=\"text-align: right;\">\n",
       "      <th></th>\n",
       "      <th>userStats</th>\n",
       "      <th>yearJoined</th>\n",
       "    </tr>\n",
       "    <tr>\n",
       "      <th>user</th>\n",
       "      <th></th>\n",
       "      <th></th>\n",
       "    </tr>\n",
       "  </thead>\n",
       "  <tbody>\n",
       "    <tr>\n",
       "      <th>0</th>\n",
       "      <td>1</td>\n",
       "      <td>1</td>\n",
       "    </tr>\n",
       "    <tr>\n",
       "      <th>1</th>\n",
       "      <td>1</td>\n",
       "      <td>1</td>\n",
       "    </tr>\n",
       "    <tr>\n",
       "      <th>2</th>\n",
       "      <td>1</td>\n",
       "      <td>1</td>\n",
       "    </tr>\n",
       "    <tr>\n",
       "      <th>3</th>\n",
       "      <td>1</td>\n",
       "      <td>1</td>\n",
       "    </tr>\n",
       "    <tr>\n",
       "      <th>4</th>\n",
       "      <td>1</td>\n",
       "      <td>1</td>\n",
       "    </tr>\n",
       "    <tr>\n",
       "      <th>...</th>\n",
       "      <td>...</td>\n",
       "      <td>...</td>\n",
       "    </tr>\n",
       "    <tr>\n",
       "      <th>995</th>\n",
       "      <td>1</td>\n",
       "      <td>1</td>\n",
       "    </tr>\n",
       "    <tr>\n",
       "      <th>996</th>\n",
       "      <td>1</td>\n",
       "      <td>1</td>\n",
       "    </tr>\n",
       "    <tr>\n",
       "      <th>997</th>\n",
       "      <td>1</td>\n",
       "      <td>1</td>\n",
       "    </tr>\n",
       "    <tr>\n",
       "      <th>998</th>\n",
       "      <td>1</td>\n",
       "      <td>1</td>\n",
       "    </tr>\n",
       "    <tr>\n",
       "      <th>999</th>\n",
       "      <td>1</td>\n",
       "      <td>1</td>\n",
       "    </tr>\n",
       "  </tbody>\n",
       "</table>\n",
       "<p>1000 rows × 2 columns</p>\n",
       "</div>"
      ],
      "text/plain": [
       "      userStats  yearJoined\n",
       "user                       \n",
       "0             1           1\n",
       "1             1           1\n",
       "2             1           1\n",
       "3             1           1\n",
       "4             1           1\n",
       "...         ...         ...\n",
       "995           1           1\n",
       "996           1           1\n",
       "997           1           1\n",
       "998           1           1\n",
       "999           1           1\n",
       "\n",
       "[1000 rows x 2 columns]"
      ]
     },
     "execution_count": 4,
     "metadata": {},
     "output_type": "execute_result"
    }
   ],
   "source": [
    "year_joined.groupby('user').count()"
   ]
  },
  {
   "cell_type": "code",
   "execution_count": 5,
   "id": "442a58fe-26be-477c-8013-6c1d57c92ff1",
   "metadata": {},
   "outputs": [
    {
     "data": {
      "text/html": [
       "<div>\n",
       "<style scoped>\n",
       "    .dataframe tbody tr th:only-of-type {\n",
       "        vertical-align: middle;\n",
       "    }\n",
       "\n",
       "    .dataframe tbody tr th {\n",
       "        vertical-align: top;\n",
       "    }\n",
       "\n",
       "    .dataframe thead th {\n",
       "        text-align: right;\n",
       "    }\n",
       "</style>\n",
       "<table border=\"1\" class=\"dataframe\">\n",
       "  <thead>\n",
       "    <tr style=\"text-align: right;\">\n",
       "      <th></th>\n",
       "      <th>yearJoined</th>\n",
       "    </tr>\n",
       "    <tr>\n",
       "      <th>userStats</th>\n",
       "      <th></th>\n",
       "    </tr>\n",
       "  </thead>\n",
       "  <tbody>\n",
       "    <tr>\n",
       "      <th>1</th>\n",
       "      <td>1000</td>\n",
       "    </tr>\n",
       "  </tbody>\n",
       "</table>\n",
       "</div>"
      ],
      "text/plain": [
       "           yearJoined\n",
       "userStats            \n",
       "1                1000"
      ]
     },
     "execution_count": 5,
     "metadata": {},
     "output_type": "execute_result"
    }
   ],
   "source": [
    "year_joined.groupby('user').count().groupby('userStats').count()"
   ]
  },
  {
   "cell_type": "markdown",
   "id": "a225d956-5893-4d13-b2e3-a713053f89b2",
   "metadata": {},
   "source": [
    "Результат:\n",
    "- Всего имеет 1000 пользователей.\n",
    "- У каждого из них по одной записи."
   ]
  },
  {
   "cell_type": "markdown",
   "id": "d3c04827-2131-4345-b0ca-ea63894c9096",
   "metadata": {},
   "source": [
    "### DataFrame emails"
   ]
  },
  {
   "cell_type": "code",
   "execution_count": 6,
   "id": "adced757-fc44-40ec-a2e9-212a72857542",
   "metadata": {},
   "outputs": [
    {
     "data": {
      "text/html": [
       "<div>\n",
       "<style scoped>\n",
       "    .dataframe tbody tr th:only-of-type {\n",
       "        vertical-align: middle;\n",
       "    }\n",
       "\n",
       "    .dataframe tbody tr th {\n",
       "        vertical-align: top;\n",
       "    }\n",
       "\n",
       "    .dataframe thead th {\n",
       "        text-align: right;\n",
       "    }\n",
       "</style>\n",
       "<table border=\"1\" class=\"dataframe\">\n",
       "  <thead>\n",
       "    <tr style=\"text-align: right;\">\n",
       "      <th></th>\n",
       "      <th>emailsOpened</th>\n",
       "      <th>user</th>\n",
       "      <th>week</th>\n",
       "    </tr>\n",
       "  </thead>\n",
       "  <tbody>\n",
       "    <tr>\n",
       "      <th>0</th>\n",
       "      <td>3.0</td>\n",
       "      <td>1.0</td>\n",
       "      <td>2015-06-29 00:00:00</td>\n",
       "    </tr>\n",
       "    <tr>\n",
       "      <th>1</th>\n",
       "      <td>2.0</td>\n",
       "      <td>1.0</td>\n",
       "      <td>2015-07-13 00:00:00</td>\n",
       "    </tr>\n",
       "    <tr>\n",
       "      <th>2</th>\n",
       "      <td>2.0</td>\n",
       "      <td>1.0</td>\n",
       "      <td>2015-07-20 00:00:00</td>\n",
       "    </tr>\n",
       "    <tr>\n",
       "      <th>3</th>\n",
       "      <td>3.0</td>\n",
       "      <td>1.0</td>\n",
       "      <td>2015-07-27 00:00:00</td>\n",
       "    </tr>\n",
       "    <tr>\n",
       "      <th>4</th>\n",
       "      <td>1.0</td>\n",
       "      <td>1.0</td>\n",
       "      <td>2015-08-03 00:00:00</td>\n",
       "    </tr>\n",
       "  </tbody>\n",
       "</table>\n",
       "</div>"
      ],
      "text/plain": [
       "   emailsOpened  user                 week\n",
       "0           3.0   1.0  2015-06-29 00:00:00\n",
       "1           2.0   1.0  2015-07-13 00:00:00\n",
       "2           2.0   1.0  2015-07-20 00:00:00\n",
       "3           3.0   1.0  2015-07-27 00:00:00\n",
       "4           1.0   1.0  2015-08-03 00:00:00"
      ]
     },
     "execution_count": 6,
     "metadata": {},
     "output_type": "execute_result"
    }
   ],
   "source": [
    "emails.head()"
   ]
  },
  {
   "cell_type": "markdown",
   "id": "bceb989a-8a21-4165-b059-1f05e06857fc",
   "metadata": {},
   "source": [
    "Преобразуем строки в колонке week в формат datetime"
   ]
  },
  {
   "cell_type": "code",
   "execution_count": 7,
   "id": "8acabca1-d11c-49f5-95fb-c24ef640eb01",
   "metadata": {},
   "outputs": [
    {
     "data": {
      "text/html": [
       "<div>\n",
       "<style scoped>\n",
       "    .dataframe tbody tr th:only-of-type {\n",
       "        vertical-align: middle;\n",
       "    }\n",
       "\n",
       "    .dataframe tbody tr th {\n",
       "        vertical-align: top;\n",
       "    }\n",
       "\n",
       "    .dataframe thead th {\n",
       "        text-align: right;\n",
       "    }\n",
       "</style>\n",
       "<table border=\"1\" class=\"dataframe\">\n",
       "  <thead>\n",
       "    <tr style=\"text-align: right;\">\n",
       "      <th></th>\n",
       "      <th>emailsOpened</th>\n",
       "      <th>user</th>\n",
       "      <th>week</th>\n",
       "    </tr>\n",
       "  </thead>\n",
       "  <tbody>\n",
       "    <tr>\n",
       "      <th>0</th>\n",
       "      <td>3.0</td>\n",
       "      <td>1.0</td>\n",
       "      <td>2015-06-29</td>\n",
       "    </tr>\n",
       "    <tr>\n",
       "      <th>1</th>\n",
       "      <td>2.0</td>\n",
       "      <td>1.0</td>\n",
       "      <td>2015-07-13</td>\n",
       "    </tr>\n",
       "    <tr>\n",
       "      <th>2</th>\n",
       "      <td>2.0</td>\n",
       "      <td>1.0</td>\n",
       "      <td>2015-07-20</td>\n",
       "    </tr>\n",
       "    <tr>\n",
       "      <th>3</th>\n",
       "      <td>3.0</td>\n",
       "      <td>1.0</td>\n",
       "      <td>2015-07-27</td>\n",
       "    </tr>\n",
       "    <tr>\n",
       "      <th>4</th>\n",
       "      <td>1.0</td>\n",
       "      <td>1.0</td>\n",
       "      <td>2015-08-03</td>\n",
       "    </tr>\n",
       "  </tbody>\n",
       "</table>\n",
       "</div>"
      ],
      "text/plain": [
       "   emailsOpened  user       week\n",
       "0           3.0   1.0 2015-06-29\n",
       "1           2.0   1.0 2015-07-13\n",
       "2           2.0   1.0 2015-07-20\n",
       "3           3.0   1.0 2015-07-27\n",
       "4           1.0   1.0 2015-08-03"
      ]
     },
     "execution_count": 7,
     "metadata": {},
     "output_type": "execute_result"
    }
   ],
   "source": [
    "emails.week = pd.to_datetime(emails.week)\n",
    "emails.head()"
   ]
  },
  {
   "cell_type": "markdown",
   "id": "12903840-296f-4287-9b1c-4cdcf9bf975f",
   "metadata": {},
   "source": [
    "Проверим, существуют ли пустые недели, когда пользователь не открыл ни одного электронного письма:"
   ]
  },
  {
   "cell_type": "code",
   "execution_count": 8,
   "id": "4fa9318f-e580-4828-a2d2-e87ae09d0cfd",
   "metadata": {},
   "outputs": [
    {
     "data": {
      "text/html": [
       "<div>\n",
       "<style scoped>\n",
       "    .dataframe tbody tr th:only-of-type {\n",
       "        vertical-align: middle;\n",
       "    }\n",
       "\n",
       "    .dataframe tbody tr th {\n",
       "        vertical-align: top;\n",
       "    }\n",
       "\n",
       "    .dataframe thead th {\n",
       "        text-align: right;\n",
       "    }\n",
       "</style>\n",
       "<table border=\"1\" class=\"dataframe\">\n",
       "  <thead>\n",
       "    <tr style=\"text-align: right;\">\n",
       "      <th></th>\n",
       "      <th>emailsOpened</th>\n",
       "      <th>user</th>\n",
       "      <th>week</th>\n",
       "    </tr>\n",
       "  </thead>\n",
       "  <tbody>\n",
       "  </tbody>\n",
       "</table>\n",
       "</div>"
      ],
      "text/plain": [
       "Empty DataFrame\n",
       "Columns: [emailsOpened, user, week]\n",
       "Index: []"
      ]
     },
     "execution_count": 8,
     "metadata": {},
     "output_type": "execute_result"
    }
   ],
   "source": [
    "emails[emails.emailsOpened < 1]"
   ]
  },
  {
   "cell_type": "markdown",
   "id": "6b4cd0ce-049b-4371-9edc-847c229a2a56",
   "metadata": {},
   "source": [
    "Ага. Пусто. Здесь у нас два варианта: либо пустые недели не регистрируются, либо пользователи открывают каждую неделю хотя бы одно электронное письмо.\n",
    "\n",
    "Посмотрим историю работы с электронной почтой одного пользователя:"
   ]
  },
  {
   "cell_type": "code",
   "execution_count": 9,
   "id": "766fe0b5-ac2f-4d8a-b43b-b07bcc51e089",
   "metadata": {},
   "outputs": [
    {
     "data": {
      "text/html": [
       "<div>\n",
       "<style scoped>\n",
       "    .dataframe tbody tr th:only-of-type {\n",
       "        vertical-align: middle;\n",
       "    }\n",
       "\n",
       "    .dataframe tbody tr th {\n",
       "        vertical-align: top;\n",
       "    }\n",
       "\n",
       "    .dataframe thead th {\n",
       "        text-align: right;\n",
       "    }\n",
       "</style>\n",
       "<table border=\"1\" class=\"dataframe\">\n",
       "  <thead>\n",
       "    <tr style=\"text-align: right;\">\n",
       "      <th></th>\n",
       "      <th>emailsOpened</th>\n",
       "      <th>user</th>\n",
       "      <th>week</th>\n",
       "    </tr>\n",
       "  </thead>\n",
       "  <tbody>\n",
       "    <tr>\n",
       "      <th>25464</th>\n",
       "      <td>1.0</td>\n",
       "      <td>998.0</td>\n",
       "      <td>2017-12-04</td>\n",
       "    </tr>\n",
       "    <tr>\n",
       "      <th>25465</th>\n",
       "      <td>3.0</td>\n",
       "      <td>998.0</td>\n",
       "      <td>2017-12-11</td>\n",
       "    </tr>\n",
       "    <tr>\n",
       "      <th>25466</th>\n",
       "      <td>3.0</td>\n",
       "      <td>998.0</td>\n",
       "      <td>2017-12-18</td>\n",
       "    </tr>\n",
       "    <tr>\n",
       "      <th>25467</th>\n",
       "      <td>3.0</td>\n",
       "      <td>998.0</td>\n",
       "      <td>2018-01-01</td>\n",
       "    </tr>\n",
       "    <tr>\n",
       "      <th>25468</th>\n",
       "      <td>3.0</td>\n",
       "      <td>998.0</td>\n",
       "      <td>2018-01-08</td>\n",
       "    </tr>\n",
       "    <tr>\n",
       "      <th>25469</th>\n",
       "      <td>2.0</td>\n",
       "      <td>998.0</td>\n",
       "      <td>2018-01-15</td>\n",
       "    </tr>\n",
       "    <tr>\n",
       "      <th>25470</th>\n",
       "      <td>3.0</td>\n",
       "      <td>998.0</td>\n",
       "      <td>2018-01-22</td>\n",
       "    </tr>\n",
       "    <tr>\n",
       "      <th>25471</th>\n",
       "      <td>2.0</td>\n",
       "      <td>998.0</td>\n",
       "      <td>2018-01-29</td>\n",
       "    </tr>\n",
       "    <tr>\n",
       "      <th>25472</th>\n",
       "      <td>3.0</td>\n",
       "      <td>998.0</td>\n",
       "      <td>2018-02-05</td>\n",
       "    </tr>\n",
       "    <tr>\n",
       "      <th>25473</th>\n",
       "      <td>3.0</td>\n",
       "      <td>998.0</td>\n",
       "      <td>2018-02-12</td>\n",
       "    </tr>\n",
       "    <tr>\n",
       "      <th>25474</th>\n",
       "      <td>3.0</td>\n",
       "      <td>998.0</td>\n",
       "      <td>2018-02-19</td>\n",
       "    </tr>\n",
       "    <tr>\n",
       "      <th>25475</th>\n",
       "      <td>2.0</td>\n",
       "      <td>998.0</td>\n",
       "      <td>2018-02-26</td>\n",
       "    </tr>\n",
       "    <tr>\n",
       "      <th>25476</th>\n",
       "      <td>2.0</td>\n",
       "      <td>998.0</td>\n",
       "      <td>2018-03-05</td>\n",
       "    </tr>\n",
       "    <tr>\n",
       "      <th>25477</th>\n",
       "      <td>3.0</td>\n",
       "      <td>998.0</td>\n",
       "      <td>2018-03-12</td>\n",
       "    </tr>\n",
       "    <tr>\n",
       "      <th>25478</th>\n",
       "      <td>2.0</td>\n",
       "      <td>998.0</td>\n",
       "      <td>2018-03-19</td>\n",
       "    </tr>\n",
       "  </tbody>\n",
       "</table>\n",
       "</div>"
      ],
      "text/plain": [
       "       emailsOpened   user       week\n",
       "25464           1.0  998.0 2017-12-04\n",
       "25465           3.0  998.0 2017-12-11\n",
       "25466           3.0  998.0 2017-12-18\n",
       "25467           3.0  998.0 2018-01-01\n",
       "25468           3.0  998.0 2018-01-08\n",
       "25469           2.0  998.0 2018-01-15\n",
       "25470           3.0  998.0 2018-01-22\n",
       "25471           2.0  998.0 2018-01-29\n",
       "25472           3.0  998.0 2018-02-05\n",
       "25473           3.0  998.0 2018-02-12\n",
       "25474           3.0  998.0 2018-02-19\n",
       "25475           2.0  998.0 2018-02-26\n",
       "25476           2.0  998.0 2018-03-05\n",
       "25477           3.0  998.0 2018-03-12\n",
       "25478           2.0  998.0 2018-03-19"
      ]
     },
     "execution_count": 9,
     "metadata": {},
     "output_type": "execute_result"
    }
   ],
   "source": [
    "emails[emails.user == 998].head(15)"
   ]
  },
  {
   "cell_type": "markdown",
   "id": "f0edf868-263d-4297-9170-68903fa348d4",
   "metadata": {},
   "source": [
    "Результат: отдельные недели не указаны в списке."
   ]
  },
  {
   "cell_type": "markdown",
   "id": "3b5cb9c3-80dd-41ad-b2fb-56cd7d5fd58c",
   "metadata": {},
   "source": [
    "Посчитаем количество еженедельных наблюдений между первым и последним событиями:"
   ]
  },
  {
   "cell_type": "code",
   "execution_count": 10,
   "id": "83b47462-2e81-4292-b6f8-b9ea54fa9f83",
   "metadata": {},
   "outputs": [
    {
     "data": {
      "text/plain": [
       "Timestamp('2018-05-28 00:00:00')"
      ]
     },
     "execution_count": 10,
     "metadata": {},
     "output_type": "execute_result"
    }
   ],
   "source": [
    "max_week = max(emails[emails.user == 998].week)\n",
    "max_week"
   ]
  },
  {
   "cell_type": "code",
   "execution_count": 11,
   "id": "202e776b-5d3a-4161-ae51-26a778b23c69",
   "metadata": {},
   "outputs": [
    {
     "data": {
      "text/plain": [
       "Timestamp('2017-12-04 00:00:00')"
      ]
     },
     "execution_count": 11,
     "metadata": {},
     "output_type": "execute_result"
    }
   ],
   "source": [
    "min_week = min(emails[emails.user == 998].week)\n",
    "min_week"
   ]
  },
  {
   "cell_type": "code",
   "execution_count": 12,
   "id": "0a97fc22-fbff-40b4-99f1-c683cd0a94aa",
   "metadata": {},
   "outputs": [
    {
     "data": {
      "text/plain": [
       "25.0"
      ]
     },
     "execution_count": 12,
     "metadata": {},
     "output_type": "execute_result"
    }
   ],
   "source": [
    "(max_week - min_week).days / 7"
   ]
  },
  {
   "cell_type": "markdown",
   "id": "0f195aef-1833-4d02-8504-e4f43231a089",
   "metadata": {},
   "source": [
    "Между начальной и конечной учетной записью должно пройти 26 недель (25 + 1)\n",
    "\n",
    "А сколько недель заданы для пользователя 998?"
   ]
  },
  {
   "cell_type": "code",
   "execution_count": 13,
   "id": "53da634a-93dd-4fb6-a95f-a38106c8f9f8",
   "metadata": {},
   "outputs": [
    {
     "data": {
      "text/plain": [
       "(24, 3)"
      ]
     },
     "execution_count": 13,
     "metadata": {},
     "output_type": "execute_result"
    }
   ],
   "source": [
    "emails[emails.user == 998].shape"
   ]
  },
  {
   "cell_type": "markdown",
   "id": "15ef32b5-7aa0-434c-a467-bedd0a35b287",
   "metadata": {},
   "source": [
    "Ага! 24, а должно быть 26...\n",
    "Нам удалось выяснить, что в наборе есть недоствющие данные, для некоторых недель они не указаны."
   ]
  },
  {
   "cell_type": "markdown",
   "id": "55ef2f35-a7f4-4025-987f-fd53ce3a9249",
   "metadata": {},
   "source": [
    "Заполним недостающие недели:\n",
    "- для этого сгенерируем объект Multiindex из нашего датафрейма, который представляет все комбинации недель и пользователей организации (декартово произведение);\n",
    "- используем полученный индекс для переиндексации исходной таблицы и заполнения пропущенных значений нулем;"
   ]
  },
  {
   "cell_type": "code",
   "execution_count": 14,
   "id": "0790d612-e33e-4083-8f3d-80eae3a89820",
   "metadata": {},
   "outputs": [
    {
     "data": {
      "text/plain": [
       "(93247,)"
      ]
     },
     "execution_count": 14,
     "metadata": {},
     "output_type": "execute_result"
    }
   ],
   "source": [
    "complete_idx = pd.MultiIndex.from_product((set(emails.week), set(emails.user)))\n",
    "complete_idx.shape"
   ]
  },
  {
   "cell_type": "code",
   "execution_count": 15,
   "id": "c691ac07-2bd1-4f5d-899e-23820cd0b61e",
   "metadata": {},
   "outputs": [
    {
     "data": {
      "text/plain": [
       "MultiIndex([('2015-04-06',  1.0),\n",
       "            ('2015-04-06',  3.0),\n",
       "            ('2015-04-06',  5.0),\n",
       "            ('2015-04-06',  6.0),\n",
       "            ('2015-04-06',  9.0),\n",
       "            ('2015-04-06', 10.0),\n",
       "            ('2015-04-06', 14.0),\n",
       "            ('2015-04-06', 16.0),\n",
       "            ('2015-04-06', 20.0),\n",
       "            ('2015-04-06', 21.0)],\n",
       "           )"
      ]
     },
     "execution_count": 15,
     "metadata": {},
     "output_type": "execute_result"
    }
   ],
   "source": [
    "complete_idx[:10]"
   ]
  },
  {
   "cell_type": "code",
   "execution_count": 16,
   "id": "b8eaa94c-6e32-46aa-b3c3-46f15b17f2ca",
   "metadata": {},
   "outputs": [],
   "source": [
    "all_email = emails.set_index(['week', 'user']).reindex(complete_idx, fill_value = 0).reset_index()"
   ]
  },
  {
   "cell_type": "code",
   "execution_count": 17,
   "id": "431565a3-a244-4064-b355-3f7510e8de84",
   "metadata": {},
   "outputs": [
    {
     "data": {
      "text/html": [
       "<div>\n",
       "<style scoped>\n",
       "    .dataframe tbody tr th:only-of-type {\n",
       "        vertical-align: middle;\n",
       "    }\n",
       "\n",
       "    .dataframe tbody tr th {\n",
       "        vertical-align: top;\n",
       "    }\n",
       "\n",
       "    .dataframe thead th {\n",
       "        text-align: right;\n",
       "    }\n",
       "</style>\n",
       "<table border=\"1\" class=\"dataframe\">\n",
       "  <thead>\n",
       "    <tr style=\"text-align: right;\">\n",
       "      <th></th>\n",
       "      <th>level_0</th>\n",
       "      <th>level_1</th>\n",
       "      <th>emailsOpened</th>\n",
       "    </tr>\n",
       "  </thead>\n",
       "  <tbody>\n",
       "    <tr>\n",
       "      <th>0</th>\n",
       "      <td>2015-04-06</td>\n",
       "      <td>1.0</td>\n",
       "      <td>0.0</td>\n",
       "    </tr>\n",
       "    <tr>\n",
       "      <th>1</th>\n",
       "      <td>2015-04-06</td>\n",
       "      <td>3.0</td>\n",
       "      <td>0.0</td>\n",
       "    </tr>\n",
       "    <tr>\n",
       "      <th>2</th>\n",
       "      <td>2015-04-06</td>\n",
       "      <td>5.0</td>\n",
       "      <td>0.0</td>\n",
       "    </tr>\n",
       "    <tr>\n",
       "      <th>3</th>\n",
       "      <td>2015-04-06</td>\n",
       "      <td>6.0</td>\n",
       "      <td>0.0</td>\n",
       "    </tr>\n",
       "    <tr>\n",
       "      <th>4</th>\n",
       "      <td>2015-04-06</td>\n",
       "      <td>9.0</td>\n",
       "      <td>0.0</td>\n",
       "    </tr>\n",
       "  </tbody>\n",
       "</table>\n",
       "</div>"
      ],
      "text/plain": [
       "     level_0  level_1  emailsOpened\n",
       "0 2015-04-06      1.0           0.0\n",
       "1 2015-04-06      3.0           0.0\n",
       "2 2015-04-06      5.0           0.0\n",
       "3 2015-04-06      6.0           0.0\n",
       "4 2015-04-06      9.0           0.0"
      ]
     },
     "execution_count": 17,
     "metadata": {},
     "output_type": "execute_result"
    }
   ],
   "source": [
    "all_email.head()"
   ]
  },
  {
   "cell_type": "markdown",
   "id": "8a769285-dea5-436c-8d20-38fd576408b6",
   "metadata": {},
   "source": [
    "Переименуем столбцы:"
   ]
  },
  {
   "cell_type": "code",
   "execution_count": 30,
   "id": "9f5b1557-38d8-4d5e-b3c2-062186f6d868",
   "metadata": {},
   "outputs": [
    {
     "data": {
      "text/html": [
       "<div>\n",
       "<style scoped>\n",
       "    .dataframe tbody tr th:only-of-type {\n",
       "        vertical-align: middle;\n",
       "    }\n",
       "\n",
       "    .dataframe tbody tr th {\n",
       "        vertical-align: top;\n",
       "    }\n",
       "\n",
       "    .dataframe thead th {\n",
       "        text-align: right;\n",
       "    }\n",
       "</style>\n",
       "<table border=\"1\" class=\"dataframe\">\n",
       "  <thead>\n",
       "    <tr style=\"text-align: right;\">\n",
       "      <th></th>\n",
       "      <th>week</th>\n",
       "      <th>user</th>\n",
       "      <th>emailsOpened</th>\n",
       "    </tr>\n",
       "  </thead>\n",
       "  <tbody>\n",
       "    <tr>\n",
       "      <th>0</th>\n",
       "      <td>2015-04-06</td>\n",
       "      <td>1.0</td>\n",
       "      <td>0.0</td>\n",
       "    </tr>\n",
       "    <tr>\n",
       "      <th>1</th>\n",
       "      <td>2015-04-06</td>\n",
       "      <td>3.0</td>\n",
       "      <td>0.0</td>\n",
       "    </tr>\n",
       "    <tr>\n",
       "      <th>2</th>\n",
       "      <td>2015-04-06</td>\n",
       "      <td>5.0</td>\n",
       "      <td>0.0</td>\n",
       "    </tr>\n",
       "    <tr>\n",
       "      <th>3</th>\n",
       "      <td>2015-04-06</td>\n",
       "      <td>6.0</td>\n",
       "      <td>0.0</td>\n",
       "    </tr>\n",
       "    <tr>\n",
       "      <th>4</th>\n",
       "      <td>2015-04-06</td>\n",
       "      <td>9.0</td>\n",
       "      <td>0.0</td>\n",
       "    </tr>\n",
       "  </tbody>\n",
       "</table>\n",
       "</div>"
      ],
      "text/plain": [
       "        week  user  emailsOpened\n",
       "0 2015-04-06   1.0           0.0\n",
       "1 2015-04-06   3.0           0.0\n",
       "2 2015-04-06   5.0           0.0\n",
       "3 2015-04-06   6.0           0.0\n",
       "4 2015-04-06   9.0           0.0"
      ]
     },
     "execution_count": 30,
     "metadata": {},
     "output_type": "execute_result"
    }
   ],
   "source": [
    "all_email.columns = ['week', 'user', 'emailsOpened']\n",
    "all_email.head()"
   ]
  },
  {
   "cell_type": "markdown",
   "id": "bfcf0837-7a85-4cd3-8a0b-3a11313080db",
   "metadata": {},
   "source": [
    "В результате у многих пользователей значения emailsOpened могут равняться нулю, так как у каждого из них разные сроки начала и окончания полуяения электронной почты.\n",
    "\n",
    "Задача: **Удалить все нулевые строки** перед первым ненулевыми строками и после последних ненулевых строк каждого пользователя."
   ]
  },
  {
   "cell_type": "markdown",
   "id": "bc1d8eaa-7b6b-4650-b12f-24dc5eb62526",
   "metadata": {},
   "source": [
    "Выбираем минимальное и максимальное значение недели для каждого пользователя."
   ]
  },
  {
   "cell_type": "code",
   "execution_count": 47,
   "id": "9ef0417f-930b-4664-8d9b-f528c5e4a49a",
   "metadata": {},
   "outputs": [],
   "source": [
    "cutoff_dates = (emails.groupby('user').week\n",
    "                      .agg(['min', 'max']))\n",
    "cutoff_dates = cutoff_dates.reset_index()"
   ]
  },
  {
   "cell_type": "code",
   "execution_count": 48,
   "id": "ae695836-af22-4d07-85de-94e6ccaac112",
   "metadata": {},
   "outputs": [
    {
     "data": {
      "text/html": [
       "<div>\n",
       "<style scoped>\n",
       "    .dataframe tbody tr th:only-of-type {\n",
       "        vertical-align: middle;\n",
       "    }\n",
       "\n",
       "    .dataframe tbody tr th {\n",
       "        vertical-align: top;\n",
       "    }\n",
       "\n",
       "    .dataframe thead th {\n",
       "        text-align: right;\n",
       "    }\n",
       "</style>\n",
       "<table border=\"1\" class=\"dataframe\">\n",
       "  <thead>\n",
       "    <tr style=\"text-align: right;\">\n",
       "      <th></th>\n",
       "      <th>user</th>\n",
       "      <th>min</th>\n",
       "      <th>max</th>\n",
       "    </tr>\n",
       "  </thead>\n",
       "  <tbody>\n",
       "    <tr>\n",
       "      <th>0</th>\n",
       "      <td>1.0</td>\n",
       "      <td>2015-06-29</td>\n",
       "      <td>2018-05-28</td>\n",
       "    </tr>\n",
       "    <tr>\n",
       "      <th>1</th>\n",
       "      <td>3.0</td>\n",
       "      <td>2018-03-05</td>\n",
       "      <td>2018-04-23</td>\n",
       "    </tr>\n",
       "    <tr>\n",
       "      <th>2</th>\n",
       "      <td>5.0</td>\n",
       "      <td>2017-06-05</td>\n",
       "      <td>2018-05-28</td>\n",
       "    </tr>\n",
       "    <tr>\n",
       "      <th>3</th>\n",
       "      <td>6.0</td>\n",
       "      <td>2016-12-05</td>\n",
       "      <td>2018-05-28</td>\n",
       "    </tr>\n",
       "    <tr>\n",
       "      <th>4</th>\n",
       "      <td>9.0</td>\n",
       "      <td>2016-07-18</td>\n",
       "      <td>2018-05-28</td>\n",
       "    </tr>\n",
       "    <tr>\n",
       "      <th>...</th>\n",
       "      <td>...</td>\n",
       "      <td>...</td>\n",
       "      <td>...</td>\n",
       "    </tr>\n",
       "    <tr>\n",
       "      <th>534</th>\n",
       "      <td>991.0</td>\n",
       "      <td>2016-10-24</td>\n",
       "      <td>2016-10-24</td>\n",
       "    </tr>\n",
       "    <tr>\n",
       "      <th>535</th>\n",
       "      <td>992.0</td>\n",
       "      <td>2015-02-09</td>\n",
       "      <td>2015-07-06</td>\n",
       "    </tr>\n",
       "    <tr>\n",
       "      <th>536</th>\n",
       "      <td>993.0</td>\n",
       "      <td>2017-09-11</td>\n",
       "      <td>2018-05-28</td>\n",
       "    </tr>\n",
       "    <tr>\n",
       "      <th>537</th>\n",
       "      <td>995.0</td>\n",
       "      <td>2016-09-05</td>\n",
       "      <td>2018-05-28</td>\n",
       "    </tr>\n",
       "    <tr>\n",
       "      <th>538</th>\n",
       "      <td>998.0</td>\n",
       "      <td>2017-12-04</td>\n",
       "      <td>2018-05-28</td>\n",
       "    </tr>\n",
       "  </tbody>\n",
       "</table>\n",
       "<p>539 rows × 3 columns</p>\n",
       "</div>"
      ],
      "text/plain": [
       "      user        min        max\n",
       "0      1.0 2015-06-29 2018-05-28\n",
       "1      3.0 2018-03-05 2018-04-23\n",
       "2      5.0 2017-06-05 2018-05-28\n",
       "3      6.0 2016-12-05 2018-05-28\n",
       "4      9.0 2016-07-18 2018-05-28\n",
       "..     ...        ...        ...\n",
       "534  991.0 2016-10-24 2016-10-24\n",
       "535  992.0 2015-02-09 2015-07-06\n",
       "536  993.0 2017-09-11 2018-05-28\n",
       "537  995.0 2016-09-05 2018-05-28\n",
       "538  998.0 2017-12-04 2018-05-28\n",
       "\n",
       "[539 rows x 3 columns]"
      ]
     },
     "execution_count": 48,
     "metadata": {},
     "output_type": "execute_result"
    }
   ],
   "source": [
    "cutoff_dates"
   ]
  },
  {
   "cell_type": "markdown",
   "id": "cda2cdf3-8fb3-4513-ac78-bd37e7eec1e7",
   "metadata": {},
   "source": [
    "### iterrows()"
   ]
  },
  {
   "cell_type": "markdown",
   "id": "67d07f0b-5646-49a9-b1ed-527b92e8b389",
   "metadata": {},
   "source": [
    "**iterrows()** выполняет итерацию по строкам **df** в виде кортежей **(index, Series)**.\n",
    "Эта функция преобразует каждую строку в объект **Series**, что вызывает две проблемы:\n",
    "- может измениться тип данных;\n",
    "- преобразование значетельно снижает производительность.\n",
    "Поэтому функция **iterrows()** является худшим методом для фактической итерации по строкам.\n",
    "\n"
   ]
  },
  {
   "cell_type": "code",
   "execution_count": 64,
   "id": "ac747eef-3327-4703-b24c-66cb8f8d1aa6",
   "metadata": {},
   "outputs": [
    {
     "name": "stdout",
     "output_type": "stream",
     "text": [
      "user                    1.0\n",
      "min     2015-06-29 00:00:00\n",
      "max     2018-05-28 00:00:00\n",
      "Name: 0, dtype: object\n",
      "user                    3.0\n",
      "min     2018-03-05 00:00:00\n",
      "max     2018-04-23 00:00:00\n",
      "Name: 1, dtype: object\n",
      "user                    5.0\n",
      "min     2017-06-05 00:00:00\n",
      "max     2018-05-28 00:00:00\n",
      "Name: 2, dtype: object\n",
      "user                    6.0\n",
      "min     2016-12-05 00:00:00\n",
      "max     2018-05-28 00:00:00\n",
      "Name: 3, dtype: object\n",
      "user                    9.0\n",
      "min     2016-07-18 00:00:00\n",
      "max     2018-05-28 00:00:00\n",
      "Name: 4, dtype: object\n"
     ]
    }
   ],
   "source": [
    "i = 0\n",
    "for _, k in cutoff_dates.iterrows():\n",
    "    print(k)\n",
    "    i += 1\n",
    "    if i == 5:\n",
    "        break"
   ]
  },
  {
   "cell_type": "code",
   "execution_count": 57,
   "id": "afe38d5f-d449-4a41-93df-ec03c8752556",
   "metadata": {},
   "outputs": [
    {
     "name": "stdout",
     "output_type": "stream",
     "text": [
      "user                    1.0\n",
      "min     2015-06-29 00:00:00\n",
      "max     2018-05-28 00:00:00\n",
      "Name: 0, dtype: object\n",
      "1.0, 2015-06-29 00:00:00, 2018-05-28 00:00:00\n",
      "user                    3.0\n",
      "min     2018-03-05 00:00:00\n",
      "max     2018-04-23 00:00:00\n",
      "Name: 1, dtype: object\n",
      "3.0, 2018-03-05 00:00:00, 2018-04-23 00:00:00\n",
      "user                    5.0\n",
      "min     2017-06-05 00:00:00\n",
      "max     2018-05-28 00:00:00\n",
      "Name: 2, dtype: object\n",
      "5.0, 2017-06-05 00:00:00, 2018-05-28 00:00:00\n",
      "user                    6.0\n",
      "min     2016-12-05 00:00:00\n",
      "max     2018-05-28 00:00:00\n",
      "Name: 3, dtype: object\n",
      "6.0, 2016-12-05 00:00:00, 2018-05-28 00:00:00\n",
      "user                    9.0\n",
      "min     2016-07-18 00:00:00\n",
      "max     2018-05-28 00:00:00\n",
      "Name: 4, dtype: object\n",
      "9.0, 2016-07-18 00:00:00, 2018-05-28 00:00:00\n"
     ]
    }
   ],
   "source": [
    "i = 0\n",
    "for _, row in cutoff_dates.iterrows():\n",
    "    print(row)\n",
    "    print(row['user'], row['min'], row['max'], sep=', ')\n",
    "    i += 1\n",
    "    if i == 5:\n",
    "        break"
   ]
  },
  {
   "cell_type": "code",
   "execution_count": 52,
   "id": "cc6c285f-f63b-4cd5-95a1-969f66361432",
   "metadata": {},
   "outputs": [],
   "source": [
    "# for _, row in cutoff_dates.iterrows():\n",
    "#     user = row['user']\n",
    "#     start_date = row['min']\n",
    "#     end_date = row['max']\n",
    "#     all_email.drop(all_email[all_email.user == user]\n",
    "#                    [all_email.week < start_date].index, inplace=True)\n",
    "#     all_email.drop(all_email[all_email.user == user]\n",
    "#                    [all_email.week > end_date].index, inplace=True)\n",
    "    "
   ]
  },
  {
   "cell_type": "code",
   "execution_count": null,
   "id": "37910413-edd6-4efe-ab22-44c2f1a57bbd",
   "metadata": {},
   "outputs": [],
   "source": []
  },
  {
   "cell_type": "code",
   "execution_count": null,
   "id": "7a2b5242-6f31-431a-8971-accd49199025",
   "metadata": {},
   "outputs": [],
   "source": []
  }
 ],
 "metadata": {
  "kernelspec": {
   "display_name": "Python 3 (ipykernel)",
   "language": "python",
   "name": "python3"
  },
  "language_info": {
   "codemirror_mode": {
    "name": "ipython",
    "version": 3
   },
   "file_extension": ".py",
   "mimetype": "text/x-python",
   "name": "python",
   "nbconvert_exporter": "python",
   "pygments_lexer": "ipython3",
   "version": "3.12.2"
  }
 },
 "nbformat": 4,
 "nbformat_minor": 5
}
