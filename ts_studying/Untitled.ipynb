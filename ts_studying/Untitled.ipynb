{
 "cells": [
  {
   "cell_type": "code",
   "execution_count": 12,
   "id": "5fc350cc-2913-4f85-a733-4777e5923dd7",
   "metadata": {},
   "outputs": [],
   "source": [
    "import pandas as pd\n",
    "import numpy as np\n",
    "import matplotlib.pyplot as plt\n",
    "%matplotlib inline\n",
    "\n",
    "import statsmodels.api as sm"
   ]
  },
  {
   "cell_type": "code",
   "execution_count": 10,
   "id": "2f86a40b-8617-402f-aa89-5873bbb68eb2",
   "metadata": {},
   "outputs": [
    {
     "data": {
      "text/html": [
       "<div>\n",
       "<style scoped>\n",
       "    .dataframe tbody tr th:only-of-type {\n",
       "        vertical-align: middle;\n",
       "    }\n",
       "\n",
       "    .dataframe tbody tr th {\n",
       "        vertical-align: top;\n",
       "    }\n",
       "\n",
       "    .dataframe thead th {\n",
       "        text-align: right;\n",
       "    }\n",
       "</style>\n",
       "<table border=\"1\" class=\"dataframe\">\n",
       "  <thead>\n",
       "    <tr style=\"text-align: right;\">\n",
       "      <th></th>\n",
       "      <th>Count</th>\n",
       "    </tr>\n",
       "    <tr>\n",
       "      <th>Month</th>\n",
       "      <th></th>\n",
       "    </tr>\n",
       "  </thead>\n",
       "  <tbody>\n",
       "    <tr>\n",
       "      <th>1966-01</th>\n",
       "      <td>41</td>\n",
       "    </tr>\n",
       "    <tr>\n",
       "      <th>1966-02</th>\n",
       "      <td>39</td>\n",
       "    </tr>\n",
       "    <tr>\n",
       "      <th>1966-03</th>\n",
       "      <td>50</td>\n",
       "    </tr>\n",
       "    <tr>\n",
       "      <th>1966-04</th>\n",
       "      <td>40</td>\n",
       "    </tr>\n",
       "    <tr>\n",
       "      <th>1966-05</th>\n",
       "      <td>43</td>\n",
       "    </tr>\n",
       "  </tbody>\n",
       "</table>\n",
       "</div>"
      ],
      "text/plain": [
       "         Count\n",
       "Month         \n",
       "1966-01     41\n",
       "1966-02     39\n",
       "1966-03     50\n",
       "1966-04     40\n",
       "1966-05     43"
      ]
     },
     "execution_count": 10,
     "metadata": {},
     "output_type": "execute_result"
    }
   ],
   "source": [
    "series = pd.read_csv(\"Series/monthly-boston-armed-robberies-j.csv\")\n",
    "series.set_index(\"Month\", inplace=True)\n",
    "series.head()"
   ]
  },
  {
   "cell_type": "code",
   "execution_count": 17,
   "id": "29ebeb8c-1724-46f1-b320-4460a39c6384",
   "metadata": {},
   "outputs": [
    {
     "name": "stderr",
     "output_type": "stream",
     "text": [
      "/home/andrew/.cache/pypoetry/virtualenvs/ts-studying-gf7ATlvB-py3.12/lib64/python3.12/site-packages/statsmodels/tsa/base/tsa_model.py:473: ValueWarning: No frequency information was provided, so inferred frequency MS will be used.\n",
      "  self._init_dates(dates, freq)\n",
      "/home/andrew/.cache/pypoetry/virtualenvs/ts-studying-gf7ATlvB-py3.12/lib64/python3.12/site-packages/pandas/util/_decorators.py:213: EstimationWarning: Model has no free parameters to estimate. Set optimized=False to suppress this warning\n",
      "  return func(*args, **kwargs)\n"
     ]
    }
   ],
   "source": [
    "model = sm.tsa.SimpleExpSmoothing(series['Count'])\n",
    "ses_model = model.fit(smoothing_level=0.2)\n",
    "series['Forecast'] = ses_model.fittedvalues"
   ]
  },
  {
   "cell_type": "code",
   "execution_count": 18,
   "id": "60bc347f-e8e3-485a-9893-db69c19db018",
   "metadata": {},
   "outputs": [
    {
     "data": {
      "text/html": [
       "<div>\n",
       "<style scoped>\n",
       "    .dataframe tbody tr th:only-of-type {\n",
       "        vertical-align: middle;\n",
       "    }\n",
       "\n",
       "    .dataframe tbody tr th {\n",
       "        vertical-align: top;\n",
       "    }\n",
       "\n",
       "    .dataframe thead th {\n",
       "        text-align: right;\n",
       "    }\n",
       "</style>\n",
       "<table border=\"1\" class=\"dataframe\">\n",
       "  <thead>\n",
       "    <tr style=\"text-align: right;\">\n",
       "      <th></th>\n",
       "      <th>Count</th>\n",
       "      <th>Forecast</th>\n",
       "    </tr>\n",
       "    <tr>\n",
       "      <th>Month</th>\n",
       "      <th></th>\n",
       "      <th></th>\n",
       "    </tr>\n",
       "  </thead>\n",
       "  <tbody>\n",
       "    <tr>\n",
       "      <th>1966-01</th>\n",
       "      <td>41</td>\n",
       "      <td>41.000</td>\n",
       "    </tr>\n",
       "    <tr>\n",
       "      <th>1966-02</th>\n",
       "      <td>39</td>\n",
       "      <td>41.000</td>\n",
       "    </tr>\n",
       "    <tr>\n",
       "      <th>1966-03</th>\n",
       "      <td>50</td>\n",
       "      <td>40.600</td>\n",
       "    </tr>\n",
       "    <tr>\n",
       "      <th>1966-04</th>\n",
       "      <td>40</td>\n",
       "      <td>42.480</td>\n",
       "    </tr>\n",
       "    <tr>\n",
       "      <th>1966-05</th>\n",
       "      <td>43</td>\n",
       "      <td>41.984</td>\n",
       "    </tr>\n",
       "  </tbody>\n",
       "</table>\n",
       "</div>"
      ],
      "text/plain": [
       "         Count  Forecast\n",
       "Month                   \n",
       "1966-01     41    41.000\n",
       "1966-02     39    41.000\n",
       "1966-03     50    40.600\n",
       "1966-04     40    42.480\n",
       "1966-05     43    41.984"
      ]
     },
     "execution_count": 18,
     "metadata": {},
     "output_type": "execute_result"
    }
   ],
   "source": [
    "series.head()"
   ]
  },
  {
   "cell_type": "code",
   "execution_count": 24,
   "id": "6aa1f313-902d-477a-a6e8-92c108b3cd8a",
   "metadata": {},
   "outputs": [
    {
     "name": "stderr",
     "output_type": "stream",
     "text": [
      "/home/andrew/.cache/pypoetry/virtualenvs/ts-studying-gf7ATlvB-py3.12/lib64/python3.12/site-packages/statsmodels/tsa/base/tsa_model.py:473: ValueWarning: No frequency information was provided, so inferred frequency MS will be used.\n",
      "  self._init_dates(dates, freq)\n"
     ]
    }
   ],
   "source": [
    "model = sm.tsa.ExponentialSmoothing(series['Count'], trend='add')\n",
    "des_model = model.fit(smoothing_level=0.2, smoothing_trend=0.2)\n",
    "series['Forecast_01'] = des_model.fittedvalues"
   ]
  },
  {
   "cell_type": "code",
   "execution_count": 25,
   "id": "3ac2e7ae-76b0-4fe6-b3be-5cea6d58253f",
   "metadata": {},
   "outputs": [
    {
     "data": {
      "text/html": [
       "<div>\n",
       "<style scoped>\n",
       "    .dataframe tbody tr th:only-of-type {\n",
       "        vertical-align: middle;\n",
       "    }\n",
       "\n",
       "    .dataframe tbody tr th {\n",
       "        vertical-align: top;\n",
       "    }\n",
       "\n",
       "    .dataframe thead th {\n",
       "        text-align: right;\n",
       "    }\n",
       "</style>\n",
       "<table border=\"1\" class=\"dataframe\">\n",
       "  <thead>\n",
       "    <tr style=\"text-align: right;\">\n",
       "      <th></th>\n",
       "      <th>Count</th>\n",
       "      <th>Forecast</th>\n",
       "      <th>Forecast_01</th>\n",
       "    </tr>\n",
       "    <tr>\n",
       "      <th>Month</th>\n",
       "      <th></th>\n",
       "      <th></th>\n",
       "      <th></th>\n",
       "    </tr>\n",
       "  </thead>\n",
       "  <tbody>\n",
       "    <tr>\n",
       "      <th>1966-01</th>\n",
       "      <td>41</td>\n",
       "      <td>41.000</td>\n",
       "      <td>40.075552</td>\n",
       "    </tr>\n",
       "    <tr>\n",
       "      <th>1966-02</th>\n",
       "      <td>39</td>\n",
       "      <td>41.000</td>\n",
       "      <td>39.737435</td>\n",
       "    </tr>\n",
       "    <tr>\n",
       "      <th>1966-03</th>\n",
       "      <td>50</td>\n",
       "      <td>40.600</td>\n",
       "      <td>39.037445</td>\n",
       "    </tr>\n",
       "    <tr>\n",
       "      <th>1966-04</th>\n",
       "      <td>40</td>\n",
       "      <td>42.480</td>\n",
       "      <td>41.115955</td>\n",
       "    </tr>\n",
       "    <tr>\n",
       "      <th>1966-05</th>\n",
       "      <td>43</td>\n",
       "      <td>41.984</td>\n",
       "      <td>40.734124</td>\n",
       "    </tr>\n",
       "  </tbody>\n",
       "</table>\n",
       "</div>"
      ],
      "text/plain": [
       "         Count  Forecast  Forecast_01\n",
       "Month                                \n",
       "1966-01     41    41.000    40.075552\n",
       "1966-02     39    41.000    39.737435\n",
       "1966-03     50    40.600    39.037445\n",
       "1966-04     40    42.480    41.115955\n",
       "1966-05     43    41.984    40.734124"
      ]
     },
     "execution_count": 25,
     "metadata": {},
     "output_type": "execute_result"
    }
   ],
   "source": [
    "series.head()"
   ]
  },
  {
   "cell_type": "code",
   "execution_count": 26,
   "id": "a4fc0830-7764-4363-a92c-f42568fe94c3",
   "metadata": {},
   "outputs": [
    {
     "name": "stderr",
     "output_type": "stream",
     "text": [
      "/home/andrew/.cache/pypoetry/virtualenvs/ts-studying-gf7ATlvB-py3.12/lib64/python3.12/site-packages/statsmodels/tsa/base/tsa_model.py:473: ValueWarning: No frequency information was provided, so inferred frequency MS will be used.\n",
      "  self._init_dates(dates, freq)\n"
     ]
    }
   ],
   "source": [
    "model = sm.tsa.ExponentialSmoothing(series['Count'], trend='add', seasonal='add', seasonal_periods=12)\n",
    "tes_model = model.fit(smoothing_level=0.2, smoothing_trend=0.2, smoothing_seasonal=0.4)\n",
    "series['Forecast_02'] = tes_model.fittedvalues"
   ]
  },
  {
   "cell_type": "code",
   "execution_count": 30,
   "id": "8fbf000f-27e4-490e-8faf-39c0f32ffca9",
   "metadata": {},
   "outputs": [
    {
     "data": {
      "text/html": [
       "<div>\n",
       "<style scoped>\n",
       "    .dataframe tbody tr th:only-of-type {\n",
       "        vertical-align: middle;\n",
       "    }\n",
       "\n",
       "    .dataframe tbody tr th {\n",
       "        vertical-align: top;\n",
       "    }\n",
       "\n",
       "    .dataframe thead th {\n",
       "        text-align: right;\n",
       "    }\n",
       "</style>\n",
       "<table border=\"1\" class=\"dataframe\">\n",
       "  <thead>\n",
       "    <tr style=\"text-align: right;\">\n",
       "      <th></th>\n",
       "      <th>Count</th>\n",
       "      <th>Forecast</th>\n",
       "      <th>Forecast_01</th>\n",
       "      <th>Forecast_02</th>\n",
       "    </tr>\n",
       "    <tr>\n",
       "      <th>Month</th>\n",
       "      <th></th>\n",
       "      <th></th>\n",
       "      <th></th>\n",
       "      <th></th>\n",
       "    </tr>\n",
       "  </thead>\n",
       "  <tbody>\n",
       "    <tr>\n",
       "      <th>1975-06</th>\n",
       "      <td>316</td>\n",
       "      <td>381.920083</td>\n",
       "      <td>423.963203</td>\n",
       "      <td>425.763285</td>\n",
       "    </tr>\n",
       "    <tr>\n",
       "      <th>1975-07</th>\n",
       "      <td>398</td>\n",
       "      <td>368.736066</td>\n",
       "      <td>400.534369</td>\n",
       "      <td>470.555689</td>\n",
       "    </tr>\n",
       "    <tr>\n",
       "      <th>1975-08</th>\n",
       "      <td>394</td>\n",
       "      <td>374.588853</td>\n",
       "      <td>398.089927</td>\n",
       "      <td>514.914259</td>\n",
       "    </tr>\n",
       "    <tr>\n",
       "      <th>1975-09</th>\n",
       "      <td>431</td>\n",
       "      <td>378.471082</td>\n",
       "      <td>395.170776</td>\n",
       "      <td>407.003202</td>\n",
       "    </tr>\n",
       "    <tr>\n",
       "      <th>1975-10</th>\n",
       "      <td>431</td>\n",
       "      <td>388.976866</td>\n",
       "      <td>401.668625</td>\n",
       "      <td>450.736423</td>\n",
       "    </tr>\n",
       "  </tbody>\n",
       "</table>\n",
       "</div>"
      ],
      "text/plain": [
       "         Count    Forecast  Forecast_01  Forecast_02\n",
       "Month                                               \n",
       "1975-06    316  381.920083   423.963203   425.763285\n",
       "1975-07    398  368.736066   400.534369   470.555689\n",
       "1975-08    394  374.588853   398.089927   514.914259\n",
       "1975-09    431  378.471082   395.170776   407.003202\n",
       "1975-10    431  388.976866   401.668625   450.736423"
      ]
     },
     "execution_count": 30,
     "metadata": {},
     "output_type": "execute_result"
    }
   ],
   "source": [
    "series.tail()"
   ]
  },
  {
   "cell_type": "code",
   "execution_count": 28,
   "id": "9da8125b-d344-4795-9ded-280761fa3d64",
   "metadata": {},
   "outputs": [],
   "source": [
    "series_pred = tes_model.forecast(20)"
   ]
  },
  {
   "cell_type": "code",
   "execution_count": 29,
   "id": "d6f0ce8f-4c1b-4641-b375-b1b25e5eb945",
   "metadata": {},
   "outputs": [
    {
     "data": {
      "text/plain": [
       "1975-11-01    417.110294\n",
       "1975-12-01    386.105627\n",
       "1976-01-01    403.904078\n",
       "1976-02-01    356.849518\n",
       "1976-03-01    311.340092\n",
       "1976-04-01    287.258188\n",
       "1976-05-01    255.949096\n",
       "1976-06-01    277.425623\n",
       "1976-07-01    351.485340\n",
       "1976-08-01    386.345464\n",
       "1976-09-01    360.752097\n",
       "1976-10-01    389.297782\n",
       "1976-11-01    359.618938\n",
       "1976-12-01    328.614271\n",
       "1977-01-01    346.412722\n",
       "1977-02-01    299.358161\n",
       "1977-03-01    253.848735\n",
       "1977-04-01    229.766831\n",
       "1977-05-01    198.457739\n",
       "1977-06-01    219.934267\n",
       "Freq: MS, dtype: float64"
      ]
     },
     "execution_count": 29,
     "metadata": {},
     "output_type": "execute_result"
    }
   ],
   "source": [
    "series_pred"
   ]
  },
  {
   "cell_type": "code",
   "execution_count": 32,
   "id": "e673574b-fcec-4477-bd04-881a46178811",
   "metadata": {},
   "outputs": [],
   "source": [
    "series_pred = pd.concat([series['Forecast_02'], series_pred])"
   ]
  },
  {
   "cell_type": "code",
   "execution_count": 33,
   "id": "c2d36114-72ed-4a55-8188-44a290581c58",
   "metadata": {},
   "outputs": [
    {
     "data": {
      "text/plain": [
       "((118, 4), (138,))"
      ]
     },
     "execution_count": 33,
     "metadata": {},
     "output_type": "execute_result"
    }
   ],
   "source": [
    "series.shape, series_pred.shape"
   ]
  },
  {
   "cell_type": "code",
   "execution_count": null,
   "id": "a7af0993-e3df-4dd6-95d9-1ad17c99cf20",
   "metadata": {},
   "outputs": [],
   "source": [
    "    "
   ]
  }
 ],
 "metadata": {
  "kernelspec": {
   "display_name": "Python 3 (ipykernel)",
   "language": "python",
   "name": "python3"
  },
  "language_info": {
   "codemirror_mode": {
    "name": "ipython",
    "version": 3
   },
   "file_extension": ".py",
   "mimetype": "text/x-python",
   "name": "python",
   "nbconvert_exporter": "python",
   "pygments_lexer": "ipython3",
   "version": "3.12.3"
  }
 },
 "nbformat": 4,
 "nbformat_minor": 5
}
