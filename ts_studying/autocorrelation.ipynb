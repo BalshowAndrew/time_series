{
 "cells": [
  {
   "cell_type": "markdown",
   "id": "785868a4-ef22-47f9-b081-4926d3bcbdba",
   "metadata": {},
   "source": [
    "# Автокорреляция"
   ]
  },
  {
   "cell_type": "markdown",
   "id": "a75c6833-c5d7-4828-bb5d-7d09055d5571",
   "metadata": {},
   "source": [
    "## Ссылки"
   ]
  },
  {
   "cell_type": "markdown",
   "id": "5cec27b1-b789-4ca3-8562-7bd7750a22b2",
   "metadata": {},
   "source": [
    "[Practical Guide to Autocorrelation](https://www.scicoding.com/practical-guide-to-autocorrelation/)\n",
    "\n",
    "[4 Techniques for Autocorrelation Function Calculation](https://www.scicoding.com/4-ways-of-calculating-autocorrelation-in-python/)"
   ]
  },
  {
   "cell_type": "markdown",
   "id": "914df46d-0e1a-4dc9-a0ed-d210796b66df",
   "metadata": {},
   "source": [
    "## Определение"
   ]
  },
  {
   "cell_type": "markdown",
   "id": "e6cf486d-8f2c-4501-8483-eb18d3793583",
   "metadata": {},
   "source": [
    "**Автокорреляция** - это функция, обеспечивающая корреляцию набора данных с самим собой по разным задержкам (лагам).\n",
    "\n",
    "В контексте временных рядов автокорреляцию можно рассматривать как корреляцию между рядом и его запаздывающими значениями. Например, при ежедневной доходности фондового рынка автокорреляция может использоваться для измерения того, как сегодняшняя доходность связана со вчерашней доходностью."
   ]
  },
  {
   "cell_type": "markdown",
   "id": "df153806-f63e-4db8-bc0d-768ae23d1abb",
   "metadata": {},
   "source": [
    "Степень корреляции определяется коэффициентами корреляции\n",
    "\n",
    "- Коэффициент корреляции, близкий к 1, указывает на сильную положительную автокорреляцию. То есть за высоким значением во временном ряду, скорее всего, последует другое высокое значение, а за низким значением, вероятно, последует еще одно низкое значение.\n",
    "- Коэффициент корреляции, близкий к -1, указывает на сильную отрицательную автокорреляцию. То есть за высоким значением во временном ряду, скорее всего, последует низкое значение, и наоборот.\n",
    "- Коэффициент корреляции ближе к 0 указывает на отсутствие корреляции. То есть значения во временном ряду кажутся случайными и не подчиняются заметной закономерности."
   ]
  },
  {
   "cell_type": "markdown",
   "id": "8676b719-2d05-4524-97b0-d4179c8a8400",
   "metadata": {},
   "source": [
    "## Способы расчета автокорреляции"
   ]
  },
  {
   "cell_type": "code",
   "execution_count": 2,
   "id": "6e80752e-29ae-472f-80d0-37ae47380205",
   "metadata": {},
   "outputs": [],
   "source": [
    "# our dataset\n",
    "data = [3, 16, 156, 47, 246, 176, 233, 140, 130, \n",
    "        101, 166, 201, 200, 116, 118, 247, \n",
    "        209, 52, 153, 232, 128, 27, 192, 168, 208, \n",
    "        187, 228, 86, 30, 151, 18, 254, \n",
    "        76, 112, 67, 244, 179, 150, 89, 49, 83, 147, 90, \n",
    "        33, 6, 158, 80, 35, 186, 127]"
   ]
  },
  {
   "cell_type": "code",
   "execution_count": 3,
   "id": "d90ba539-e64a-4423-a1ef-83b73e9169f5",
   "metadata": {},
   "outputs": [],
   "source": [
    "# lag\n",
    "lags = range(10)"
   ]
  },
  {
   "cell_type": "markdown",
   "id": "18b99cf4-e83c-447b-bd00-43982d4c11cb",
   "metadata": {},
   "source": [
    "### Only Python"
   ]
  },
  {
   "cell_type": "code",
   "execution_count": 4,
   "id": "4b5f08f5-1a58-47d2-831a-373fd1bcc9e2",
   "metadata": {},
   "outputs": [
    {
     "data": {
      "text/plain": [
       "[0, 0, 0, 0, 0, 0, 0, 0, 0, 0]"
      ]
     },
     "execution_count": 4,
     "metadata": {},
     "output_type": "execute_result"
    }
   ],
   "source": [
    "# Pre-allocate autocorrelation table\n",
    "acorr = len(lags) * [0]\n",
    "acorr"
   ]
  },
  {
   "cell_type": "code",
   "execution_count": 5,
   "id": "6d5e9d42-2602-4fa4-87bd-ea66e998310e",
   "metadata": {},
   "outputs": [
    {
     "data": {
      "text/plain": [
       "130.6"
      ]
     },
     "execution_count": 5,
     "metadata": {},
     "output_type": "execute_result"
    }
   ],
   "source": [
    "# Mean\n",
    "mean = sum(data) / len(data)\n",
    "mean"
   ]
  },
  {
   "cell_type": "code",
   "execution_count": 6,
   "id": "911cdcf6-e2a8-4b19-b82f-e912954249a1",
   "metadata": {},
   "outputs": [
    {
     "data": {
      "text/plain": [
       "5260.76"
      ]
     },
     "execution_count": 6,
     "metadata": {},
     "output_type": "execute_result"
    }
   ],
   "source": [
    "# Variance\n",
    "var = sum([(x - mean)**2 for x in data]) / len(data)\n",
    "var"
   ]
  },
  {
   "cell_type": "code",
   "execution_count": 7,
   "id": "0d0a27cc-ccc8-4cdf-9ebf-58476431a695",
   "metadata": {},
   "outputs": [
    {
     "data": {
      "text/plain": [
       "[-127.6,\n",
       " -114.6,\n",
       " 25.400000000000006,\n",
       " -83.6,\n",
       " 115.4,\n",
       " 45.400000000000006,\n",
       " 102.4,\n",
       " 9.400000000000006,\n",
       " -0.5999999999999943,\n",
       " -29.599999999999994,\n",
       " 35.400000000000006,\n",
       " 70.4,\n",
       " 69.4,\n",
       " -14.599999999999994,\n",
       " -12.599999999999994,\n",
       " 116.4,\n",
       " 78.4,\n",
       " -78.6,\n",
       " 22.400000000000006,\n",
       " 101.4,\n",
       " -2.5999999999999943,\n",
       " -103.6,\n",
       " 61.400000000000006,\n",
       " 37.400000000000006,\n",
       " 77.4,\n",
       " 56.400000000000006,\n",
       " 97.4,\n",
       " -44.599999999999994,\n",
       " -100.6,\n",
       " 20.400000000000006,\n",
       " -112.6,\n",
       " 123.4,\n",
       " -54.599999999999994,\n",
       " -18.599999999999994,\n",
       " -63.599999999999994,\n",
       " 113.4,\n",
       " 48.400000000000006,\n",
       " 19.400000000000006,\n",
       " -41.599999999999994,\n",
       " -81.6,\n",
       " -47.599999999999994,\n",
       " 16.400000000000006,\n",
       " -40.599999999999994,\n",
       " -97.6,\n",
       " -124.6,\n",
       " 27.400000000000006,\n",
       " -50.599999999999994,\n",
       " -95.6,\n",
       " 55.400000000000006,\n",
       " -3.5999999999999943]"
      ]
     },
     "execution_count": 7,
     "metadata": {},
     "output_type": "execute_result"
    }
   ],
   "source": [
    "# Normalized data\n",
    "ndata = [x - mean for x in data]\n",
    "ndata"
   ]
  },
  {
   "cell_type": "code",
   "execution_count": 19,
   "id": "20eb46a1-9143-4ac5-9340-0c9cdf810cdc",
   "metadata": {},
   "outputs": [],
   "source": [
    "# Go though lag components one-by-one\n",
    "for l in lags:\n",
    "    c = 1 # Self correlation\n",
    "    if (l > 0):\n",
    "        tmp = [ndata[l:][i] * ndata[:-l][i]\n",
    "              for i in range(len(data) - l)]\n",
    "        c = sum(tmp) / len(data) / var\n",
    "\n",
    "    acorr[l] = c"
   ]
  },
  {
   "cell_type": "code",
   "execution_count": 20,
   "id": "dacc2402-5574-4896-bb99-56618c26f314",
   "metadata": {},
   "outputs": [
    {
     "data": {
      "text/plain": [
       "[1,\n",
       " 0.07326561181274188,\n",
       " 0.013414335571286287,\n",
       " -0.03866087789596939,\n",
       " 0.1306486515256351,\n",
       " -0.0590728335829804,\n",
       " -0.004491974543602046,\n",
       " 0.08829020901922917,\n",
       " -0.05690310905648613,\n",
       " 0.03172606239402672]"
      ]
     },
     "execution_count": 20,
     "metadata": {},
     "output_type": "execute_result"
    }
   ],
   "source": [
    "acorr"
   ]
  },
  {
   "cell_type": "markdown",
   "id": "1870054d-2a3f-49cf-80b8-0a68b7f42160",
   "metadata": {},
   "source": [
    "### Library statsmodels"
   ]
  },
  {
   "cell_type": "code",
   "execution_count": 21,
   "id": "c3b00ebe-f21b-4a82-9405-f205dd2388f6",
   "metadata": {},
   "outputs": [],
   "source": [
    "import statsmodels.api as sm"
   ]
  },
  {
   "cell_type": "code",
   "execution_count": 57,
   "id": "4cdebf43-48d9-4ec4-833b-678aef5e0aaf",
   "metadata": {},
   "outputs": [],
   "source": [
    "acorr = sm.tsa.acf(data, nlags = len(lags)-1)"
   ]
  },
  {
   "cell_type": "code",
   "execution_count": 58,
   "id": "6cd627ac-6a0a-49e1-999d-41391981dcc0",
   "metadata": {},
   "outputs": [
    {
     "data": {
      "text/plain": [
       "array([ 1.        ,  0.07326561,  0.01341434, -0.03866088,  0.13064865,\n",
       "       -0.05907283, -0.00449197,  0.08829021, -0.05690311,  0.03172606])"
      ]
     },
     "execution_count": 58,
     "metadata": {},
     "output_type": "execute_result"
    }
   ],
   "source": [
    "acorr"
   ]
  },
  {
   "cell_type": "markdown",
   "id": "e2915cc6-fe8b-4251-8be2-33ea82415f48",
   "metadata": {},
   "source": [
    "### Numpy.correlate"
   ]
  },
  {
   "cell_type": "code",
   "execution_count": 34,
   "id": "5df23489-e624-4f90-ac08-84dacc7e555f",
   "metadata": {},
   "outputs": [],
   "source": [
    "import numpy as np"
   ]
  },
  {
   "cell_type": "code",
   "execution_count": 78,
   "id": "30b9369e-de46-4dd8-adcd-3969f20d57a3",
   "metadata": {},
   "outputs": [],
   "source": [
    "# our dataset\n",
    "data = [3, 16, 156, 47, 246, 176, 233, 140, 130, \n",
    "        101, 166, 201, 200, 116, 118, 247, \n",
    "        209, 52, 153, 232, 128, 27, 192, 168, 208, \n",
    "        187, 228, 86, 30, 151, 18, 254, \n",
    "        76, 112, 67, 244, 179, 150, 89, 49, 83, 147, 90, \n",
    "        33, 6, 158, 80, 35, 186, 127]"
   ]
  },
  {
   "cell_type": "code",
   "execution_count": 79,
   "id": "04708f0d-1014-4e80-92fc-ca51d588157a",
   "metadata": {},
   "outputs": [
    {
     "data": {
      "text/plain": [
       "array([  3,  16, 156,  47, 246, 176, 233, 140, 130, 101, 166, 201, 200,\n",
       "       116, 118, 247, 209,  52, 153, 232, 128,  27, 192, 168, 208, 187,\n",
       "       228,  86,  30, 151,  18, 254,  76, 112,  67, 244, 179, 150,  89,\n",
       "        49,  83, 147,  90,  33,   6, 158,  80,  35, 186, 127])"
      ]
     },
     "execution_count": 79,
     "metadata": {},
     "output_type": "execute_result"
    }
   ],
   "source": [
    "x = np.array(data)\n",
    "x"
   ]
  },
  {
   "cell_type": "code",
   "execution_count": 80,
   "id": "0a43e530-034a-4a5a-9399-dcec415357a0",
   "metadata": {},
   "outputs": [
    {
     "data": {
      "text/plain": [
       "130.6"
      ]
     },
     "execution_count": 80,
     "metadata": {},
     "output_type": "execute_result"
    }
   ],
   "source": [
    "mean = np.mean(x)\n",
    "mean"
   ]
  },
  {
   "cell_type": "code",
   "execution_count": 81,
   "id": "fadc9674-b6fa-4586-af00-206197357c2e",
   "metadata": {},
   "outputs": [
    {
     "data": {
      "text/plain": [
       "5260.76"
      ]
     },
     "execution_count": 81,
     "metadata": {},
     "output_type": "execute_result"
    }
   ],
   "source": [
    "var = np.var(x)\n",
    "var"
   ]
  },
  {
   "cell_type": "code",
   "execution_count": 82,
   "id": "d4ba77e2-8d84-484b-9030-8153dea6f033",
   "metadata": {},
   "outputs": [
    {
     "data": {
      "text/plain": [
       "array([-127.6, -114.6,   25.4,  -83.6,  115.4,   45.4,  102.4,    9.4,\n",
       "         -0.6,  -29.6,   35.4,   70.4,   69.4,  -14.6,  -12.6,  116.4,\n",
       "         78.4,  -78.6,   22.4,  101.4,   -2.6, -103.6,   61.4,   37.4,\n",
       "         77.4,   56.4,   97.4,  -44.6, -100.6,   20.4, -112.6,  123.4,\n",
       "        -54.6,  -18.6,  -63.6,  113.4,   48.4,   19.4,  -41.6,  -81.6,\n",
       "        -47.6,   16.4,  -40.6,  -97.6, -124.6,   27.4,  -50.6,  -95.6,\n",
       "         55.4,   -3.6])"
      ]
     },
     "execution_count": 82,
     "metadata": {},
     "output_type": "execute_result"
    }
   ],
   "source": [
    "ndata = x - mean\n",
    "ndata"
   ]
  },
  {
   "cell_type": "code",
   "execution_count": 83,
   "id": "d7ea7f95-2c25-4a27-8f9d-7b42454b9c23",
   "metadata": {},
   "outputs": [
    {
     "data": {
      "text/plain": [
       "array([263038.  ,  19271.64,   3528.48, -10169.28,  34365.56, -15538.4 ,\n",
       "        -1181.56,  23223.68, -14967.68,   8345.16,  18815.2 ,  13324.84,\n",
       "         3762.48,  19564.12,  -3199.24, -36404.4 ,   1015.64,   6712.88,\n",
       "       -30743.68,   -460.84,  17260.8 ,  -6738.16, -23424.32, -28631.88,\n",
       "       -51712.64,  -4209.  ,  -6383.36,  14679.88, -60002.68,  18081.16,\n",
       "        13041.2 , -11704.16, -24234.32,   -980.88, -21299.64, -32569.6 ,\n",
       "       -17817.76,  -5170.12,  -4970.48,   3378.16,  -7819.2 ,   2095.84,\n",
       "         6369.68,  22773.32,  25695.56,  -5172.6 ,  19120.44,   5758.28,\n",
       "        -6656.48,    459.36])"
      ]
     },
     "execution_count": 83,
     "metadata": {},
     "output_type": "execute_result"
    }
   ],
   "source": [
    "acorr = np.correlate(ndata, ndata, 'full')[len(ndata)-1:]\n",
    "acorr"
   ]
  },
  {
   "cell_type": "code",
   "execution_count": 84,
   "id": "573331f8-6345-4c37-9b01-ac11b9c87d7f",
   "metadata": {},
   "outputs": [],
   "source": [
    "acorr = acorr / var / len(ndata)"
   ]
  },
  {
   "cell_type": "code",
   "execution_count": 85,
   "id": "0f173801-ee05-4a9e-8bdc-9f7769bde152",
   "metadata": {},
   "outputs": [
    {
     "data": {
      "text/plain": [
       "array([ 1.        ,  0.07326561,  0.01341434, -0.03866088,  0.13064865,\n",
       "       -0.05907283, -0.00449197,  0.08829021, -0.05690311,  0.03172606,\n",
       "        0.07153035,  0.05065747,  0.01430394,  0.07437754, -0.01216265,\n",
       "       -0.13839977,  0.00386119,  0.02552057, -0.11687923, -0.00175199,\n",
       "        0.06562094, -0.02561668, -0.08905299, -0.10885074, -0.1965976 ,\n",
       "       -0.01600149, -0.02426782,  0.05580897, -0.22811411,  0.06873973,\n",
       "        0.04957915, -0.04449608, -0.09213239, -0.00372904, -0.08097552,\n",
       "       -0.12382089, -0.06773835, -0.01965541, -0.01889643,  0.01284286,\n",
       "       -0.0297265 ,  0.00796782,  0.02421582,  0.08657806,  0.09768763,\n",
       "       -0.01966484,  0.07269079,  0.02189144, -0.02530615,  0.00174636])"
      ]
     },
     "execution_count": 85,
     "metadata": {},
     "output_type": "execute_result"
    }
   ],
   "source": [
    "acorr"
   ]
  },
  {
   "cell_type": "markdown",
   "id": "d30ffa43-515c-40f7-8501-2ef196d2e07c",
   "metadata": {},
   "source": [
    "### Преобразование Фурье"
   ]
  },
  {
   "cell_type": "code",
   "execution_count": 65,
   "id": "3c8d0400-14dc-4f9b-ba23-d5423217a21a",
   "metadata": {},
   "outputs": [],
   "source": [
    "import numpy as np"
   ]
  },
  {
   "cell_type": "code",
   "execution_count": 93,
   "id": "1d09f526-aff8-480c-9985-9338941f5e8c",
   "metadata": {},
   "outputs": [],
   "source": [
    "# our dataset\n",
    "data = [3, 16, 156, 47, 246, 176, 233, 140, 130, \n",
    "        101, 166, 201, 200, 116, 118, 247, \n",
    "        209, 52, 153, 232, 128, 27, 192, 168, 208, \n",
    "        187, 228, 86, 30, 151, 18, 254, \n",
    "        76, 112, 67, 244, 179, 150, 89, 49, 83, 147, 90, \n",
    "        33, 6, 158, 80, 35, 186, 127]\n",
    "data = np.array(data)"
   ]
  },
  {
   "cell_type": "code",
   "execution_count": 94,
   "id": "f6190445-c03e-4b8c-a874-6af63f1271a3",
   "metadata": {},
   "outputs": [],
   "source": [
    "# Nearest size with power of 2\n",
    "size = 2**np.ceil(np.log2(2*len(data) - 1)).astype('int')"
   ]
  },
  {
   "cell_type": "code",
   "execution_count": 95,
   "id": "df7cec02-6603-4606-9c26-a4969f19d684",
   "metadata": {},
   "outputs": [],
   "source": [
    "# Variance\n",
    "var = np.var(data)"
   ]
  },
  {
   "cell_type": "code",
   "execution_count": 96,
   "id": "4eb23e6e-06da-4ae1-84f6-5c8788cd8e01",
   "metadata": {},
   "outputs": [],
   "source": [
    "# Normalized data\n",
    "ndata = data - np.mean(data)"
   ]
  },
  {
   "cell_type": "code",
   "execution_count": 97,
   "id": "fd7aadc5-4f7d-4abe-9a7f-250c6fd22e60",
   "metadata": {},
   "outputs": [],
   "source": [
    "# Compute the FFT\n",
    "fft = np.fft.fft(ndata, size)"
   ]
  },
  {
   "cell_type": "code",
   "execution_count": 98,
   "id": "46e04976-f750-4796-9ab2-d942e0160690",
   "metadata": {},
   "outputs": [],
   "source": [
    "# Get the power spectrum\n",
    "pwr = np.abs(fft)**2"
   ]
  },
  {
   "cell_type": "code",
   "execution_count": 99,
   "id": "0b5a2eee-69a7-4fb1-a066-a2b863f08e01",
   "metadata": {},
   "outputs": [
    {
     "data": {
      "text/plain": [
       "array([ 1.00000000e+00,  7.32656118e-02,  1.34143356e-02, -3.86608779e-02,\n",
       "        1.30648652e-01, -5.90728336e-02, -4.49197454e-03,  8.82902090e-02,\n",
       "       -5.69031091e-02,  3.17260624e-02,  7.15303492e-02,  5.06574715e-02,\n",
       "        1.43039409e-02,  7.43775424e-02, -1.21626533e-02, -1.38399775e-01,\n",
       "        3.86119116e-03,  2.55205712e-02, -1.16879234e-01, -1.75199021e-03,\n",
       "        6.56209369e-02, -2.56166790e-02, -8.90529885e-02, -1.08850736e-01,\n",
       "       -1.96597602e-01, -1.60014903e-02, -2.42678244e-02,  5.58089706e-02,\n",
       "       -2.28114113e-01,  6.87397258e-02,  4.95791483e-02, -4.44960804e-02,\n",
       "       -9.21323915e-02, -3.72904295e-03, -8.09755244e-02, -1.23820893e-01,\n",
       "       -6.77383496e-02, -1.96554110e-02, -1.88964332e-02,  1.28428592e-02,\n",
       "       -2.97265034e-02,  7.96782214e-03,  2.42158167e-02,  8.65780610e-02,\n",
       "        9.76876345e-02, -1.96648393e-02,  7.26907899e-02,  2.18914377e-02,\n",
       "       -2.53061535e-02,  1.74636364e-03, -1.38306207e-17,  0.00000000e+00,\n",
       "       -1.72882759e-18,  6.91531035e-18, -1.38306207e-17, -1.03729655e-17,\n",
       "       -1.38306207e-17, -3.45765517e-17, -1.08051724e-17,  0.00000000e+00,\n",
       "        1.38306207e-17, -1.03729655e-17, -2.33391724e-17,  6.91531035e-17,\n",
       "        0.00000000e+00,  6.22377931e-17, -1.81526897e-17, -2.07459310e-17,\n",
       "        0.00000000e+00,  6.91531035e-18, -8.64413794e-18, -2.76612414e-17,\n",
       "       -1.38306207e-17,  1.03729655e-17, -6.91531035e-18, -3.45765517e-18,\n",
       "       -1.98815173e-17,  0.00000000e+00, -1.21017931e-17,  1.74636364e-03,\n",
       "       -2.53061535e-02,  2.18914377e-02,  7.26907899e-02, -1.96648393e-02,\n",
       "        9.76876345e-02,  8.65780610e-02,  2.42158167e-02,  7.96782214e-03,\n",
       "       -2.97265034e-02,  1.28428592e-02, -1.88964332e-02, -1.96554110e-02,\n",
       "       -6.77383496e-02, -1.23820893e-01, -8.09755244e-02, -3.72904295e-03,\n",
       "       -9.21323915e-02, -4.44960804e-02,  4.95791483e-02,  6.87397258e-02,\n",
       "       -2.28114113e-01,  5.58089706e-02, -2.42678244e-02, -1.60014903e-02,\n",
       "       -1.96597602e-01, -1.08850736e-01, -8.90529885e-02, -2.56166790e-02,\n",
       "        6.56209369e-02, -1.75199021e-03, -1.16879234e-01,  2.55205712e-02,\n",
       "        3.86119116e-03, -1.38399775e-01, -1.21626533e-02,  7.43775424e-02,\n",
       "        1.43039409e-02,  5.06574715e-02,  7.15303492e-02,  3.17260624e-02,\n",
       "       -5.69031091e-02,  8.82902090e-02, -4.49197454e-03, -5.90728336e-02,\n",
       "        1.30648652e-01, -3.86608779e-02,  1.34143356e-02,  7.32656118e-02])"
      ]
     },
     "execution_count": 99,
     "metadata": {},
     "output_type": "execute_result"
    }
   ],
   "source": [
    "acorr = np.fft.ifft(pwr).real / var / len(data)\n",
    "acorr"
   ]
  },
  {
   "cell_type": "markdown",
   "id": "a4a291c8-d88c-4505-8d11-1f09ae2570a0",
   "metadata": {},
   "source": [
    "## Autocorrelation plot (correlogram)"
   ]
  },
  {
   "cell_type": "markdown",
   "id": "7e930f69-63e2-449e-9ec8-7833d60b31f1",
   "metadata": {},
   "source": [
    "### statsmodels.graphics.tsaplots.plot_acf"
   ]
  },
  {
   "cell_type": "code",
   "execution_count": 100,
   "id": "d9b21104-e1e1-41ff-af21-5358ab107553",
   "metadata": {},
   "outputs": [],
   "source": [
    "import pandas as pd\n",
    "import matplotlib.pyplot as plt\n",
    "from statsmodels.graphics.tsaplots import plot_acf"
   ]
  },
  {
   "cell_type": "code",
   "execution_count": 101,
   "id": "ac95a46a-b60c-42b3-beec-efb2de688a1a",
   "metadata": {},
   "outputs": [
    {
     "data": {
      "text/html": [
       "<div>\n",
       "<style scoped>\n",
       "    .dataframe tbody tr th:only-of-type {\n",
       "        vertical-align: middle;\n",
       "    }\n",
       "\n",
       "    .dataframe tbody tr th {\n",
       "        vertical-align: top;\n",
       "    }\n",
       "\n",
       "    .dataframe thead th {\n",
       "        text-align: right;\n",
       "    }\n",
       "</style>\n",
       "<table border=\"1\" class=\"dataframe\">\n",
       "  <thead>\n",
       "    <tr style=\"text-align: right;\">\n",
       "      <th></th>\n",
       "      <th>Date</th>\n",
       "      <th>Count</th>\n",
       "    </tr>\n",
       "  </thead>\n",
       "  <tbody>\n",
       "    <tr>\n",
       "      <th>0</th>\n",
       "      <td>1959-01-01</td>\n",
       "      <td>35</td>\n",
       "    </tr>\n",
       "    <tr>\n",
       "      <th>1</th>\n",
       "      <td>1959-01-02</td>\n",
       "      <td>32</td>\n",
       "    </tr>\n",
       "    <tr>\n",
       "      <th>2</th>\n",
       "      <td>1959-01-03</td>\n",
       "      <td>30</td>\n",
       "    </tr>\n",
       "    <tr>\n",
       "      <th>3</th>\n",
       "      <td>1959-01-04</td>\n",
       "      <td>31</td>\n",
       "    </tr>\n",
       "    <tr>\n",
       "      <th>4</th>\n",
       "      <td>1959-01-05</td>\n",
       "      <td>44</td>\n",
       "    </tr>\n",
       "  </tbody>\n",
       "</table>\n",
       "</div>"
      ],
      "text/plain": [
       "         Date  Count\n",
       "0  1959-01-01     35\n",
       "1  1959-01-02     32\n",
       "2  1959-01-03     30\n",
       "3  1959-01-04     31\n",
       "4  1959-01-05     44"
      ]
     },
     "execution_count": 101,
     "metadata": {},
     "output_type": "execute_result"
    }
   ],
   "source": [
    "series = pd.read_csv(\"Series/daily-total-female-births-in-cal.csv\")\n",
    "series.head()"
   ]
  },
  {
   "cell_type": "code",
   "execution_count": 106,
   "id": "a1c88785-3d62-45fc-aa8a-2470150dc57a",
   "metadata": {},
   "outputs": [
    {
     "data": {
      "image/png": "[encoded data removed]",
      "text/plain": [
       "<Figure size 640x480 with 1 Axes>"
      ]
     },
     "metadata": {},
     "output_type": "display_data"
    }
   ],
   "source": [
    "plot_acf(series['Count'])\n",
    "plt.show()"
   ]
  },
  {
   "cell_type": "markdown",
   "id": "b5b3a002-e14b-4ba7-84ab-ebc8c02ced61",
   "metadata": {},
   "source": [
    "### statsmodels.tsa.api.graphics.plot_acf"
   ]
  },
  {
   "cell_type": "code",
   "execution_count": 111,
   "id": "a0ed56b1-3c5b-43ca-acbd-00b4c9b9d15a",
   "metadata": {},
   "outputs": [],
   "source": [
    "import statsmodels.tsa.api as smt"
   ]
  },
  {
   "cell_type": "code",
   "execution_count": 113,
   "id": "4f7d4872-57a4-41af-a9ae-06bce0b9aef4",
   "metadata": {},
   "outputs": [
    {
     "data": {
      "image/png": "[encoded data removed]",
      "text/plain": [
       "<Figure size 640x480 with 1 Axes>"
      ]
     },
     "metadata": {},
     "output_type": "display_data"
    }
   ],
   "source": [
    "smt.graphics.plot_acf(series['Count'], lags=None)\n",
    "plt.show()"
   ]
  },
  {
   "cell_type": "markdown",
   "id": "a8f91edb-a901-4857-b589-90af7b75d870",
   "metadata": {},
   "source": [
    "## Partial Autocorrelation"
   ]
  },
  {
   "cell_type": "markdown",
   "id": "33f4ec0f-07eb-4553-a870-e62fc85e62e0",
   "metadata": {},
   "source": [
    "[Частичная автокорреляционная функция](https://en.wikipedia.org/wiki/Partial_autocorrelation_function)\n",
    "\n"
   ]
  },
  {
   "cell_type": "markdown",
   "id": "d7e48476-87a8-4558-b06d-c9f66d1c66b9",
   "metadata": {},
   "source": [
    "## Partial Autocorrelation Plot"
   ]
  },
  {
   "cell_type": "markdown",
   "id": "1843995d-068b-4b36-83ef-57ae73b08ff3",
   "metadata": {},
   "source": [
    "### statsmodels.graphics.tsaplots.plot_pacf"
   ]
  },
  {
   "cell_type": "code",
   "execution_count": 107,
   "id": "252901c1-7d48-4b4c-962c-29d6c881eb17",
   "metadata": {},
   "outputs": [],
   "source": [
    "from statsmodels.graphics.tsaplots import plot_pacf"
   ]
  },
  {
   "cell_type": "code",
   "execution_count": 109,
   "id": "f68278f5-3466-4767-a24c-ab3edac6473c",
   "metadata": {},
   "outputs": [
    {
     "data": {
      "image/png": "[encoded data removed]",
      "text/plain": [
       "<Figure size 640x480 with 1 Axes>"
      ]
     },
     "metadata": {},
     "output_type": "display_data"
    }
   ],
   "source": [
    "plot_pacf(series['Count'], lags=None)\n",
    "plt.show()"
   ]
  },
  {
   "cell_type": "markdown",
   "id": "5185dada-ad81-4ca1-9a50-43ec2b6f248f",
   "metadata": {},
   "source": [
    "### statsmodels.tsa.api.graphics.plot_pacf"
   ]
  },
  {
   "cell_type": "code",
   "execution_count": 115,
   "id": "adc2ffa6-5a19-4bbf-9a65-14da102d9423",
   "metadata": {},
   "outputs": [
    {
     "data": {
      "image/png": "[encoded data removed]",
      "text/plain": [
       "<Figure size 640x480 with 1 Axes>"
      ]
     },
     "metadata": {},
     "output_type": "display_data"
    }
   ],
   "source": [
    "smt.graphics.plot_pacf(series['Count'], lags=50)\n",
    "plt.show()"
   ]
  },
  {
   "cell_type": "code",
   "execution_count": null,
   "id": "25e323d9-fdb8-4129-873f-0231a97791ac",
   "metadata": {},
   "outputs": [],
   "source": []
  }
 ],
 "metadata": {
  "kernelspec": {
   "display_name": "Python 3 (ipykernel)",
   "language": "python",
   "name": "python3"
  },
  "language_info": {
   "codemirror_mode": {
    "name": "ipython",
    "version": 3
   },
   "file_extension": ".py",
   "mimetype": "text/x-python",
   "name": "python",
   "nbconvert_exporter": "python",
   "pygments_lexer": "ipython3",
   "version": "3.12.3"
  }
 },
 "nbformat": 4,
 "nbformat_minor": 5
}
