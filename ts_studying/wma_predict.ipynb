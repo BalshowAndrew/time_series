{
 "cells": [
  {
   "cell_type": "code",
   "execution_count": 43,
   "id": "7e53172b-53f7-4baa-8763-449129811cc1",
   "metadata": {},
   "outputs": [],
   "source": [
    "import pandas as pd\n",
    "import numpy as np"
   ]
  },
  {
   "cell_type": "code",
   "execution_count": 122,
   "id": "d68e0681-a17c-423c-9a1f-246129a4239d",
   "metadata": {},
   "outputs": [],
   "source": [
    "series = pd.Series([1, 2, 1, 2, 1, 2, 1])"
   ]
  },
  {
   "cell_type": "code",
   "execution_count": 123,
   "id": "ee1658e0-8f1e-4dd0-8e13-0274bcfc8402",
   "metadata": {},
   "outputs": [
    {
     "data": {
      "text/plain": [
       "0    1\n",
       "1    2\n",
       "2    1\n",
       "3    2\n",
       "4    1\n",
       "5    2\n",
       "6    1\n",
       "dtype: int64"
      ]
     },
     "execution_count": 123,
     "metadata": {},
     "output_type": "execute_result"
    }
   ],
   "source": [
    "series"
   ]
  },
  {
   "cell_type": "code",
   "execution_count": 124,
   "id": "2ed7eac2-3223-47bb-86e3-5d91be628414",
   "metadata": {},
   "outputs": [],
   "source": [
    "weights = np.array([1, 1, 2])"
   ]
  },
  {
   "cell_type": "code",
   "execution_count": 116,
   "id": "61cf62f6-e2e3-45b0-8637-aafc7726f298",
   "metadata": {},
   "outputs": [
    {
     "data": {
      "text/plain": [
       "5"
      ]
     },
     "execution_count": 116,
     "metadata": {},
     "output_type": "execute_result"
    }
   ],
   "source": [
    "(series[-3:] * weights).sum()"
   ]
  },
  {
   "cell_type": "code",
   "execution_count": 119,
   "id": "cbe44fb7-7346-4081-918a-f83a357a9dac",
   "metadata": {},
   "outputs": [
    {
     "data": {
      "text/plain": [
       "1.25"
      ]
     },
     "execution_count": 119,
     "metadata": {},
     "output_type": "execute_result"
    }
   ],
   "source": [
    "(series[-3:] * (weights / weights.sum())).sum()"
   ]
  },
  {
   "cell_type": "code",
   "execution_count": 109,
   "id": "3147d37d-126a-4564-bef9-03906a05b1b3",
   "metadata": {},
   "outputs": [
    {
     "data": {
      "text/plain": [
       "4    1.0\n",
       "5    2.0\n",
       "6    1.0\n",
       "dtype: float64"
      ]
     },
     "execution_count": 109,
     "metadata": {},
     "output_type": "execute_result"
    }
   ],
   "source": [
    "series[-3:].apply(lambda s: (s * (weights / weights.sum())).sum())"
   ]
  },
  {
   "cell_type": "code",
   "execution_count": 95,
   "id": "3e11db91-fbf6-4e1c-9df7-74e31d6cb8d3",
   "metadata": {},
   "outputs": [
    {
     "data": {
      "text/plain": [
       "4    1.0\n",
       "5    2.0\n",
       "6    1.0\n",
       "dtype: float64"
      ]
     },
     "execution_count": 95,
     "metadata": {},
     "output_type": "execute_result"
    }
   ],
   "source": [
    "series[-3:].apply(lambda s: (s * weights).sum() / weights.sum())"
   ]
  },
  {
   "cell_type": "code",
   "execution_count": 125,
   "id": "e1dd6a12-bef5-4b6e-a5f9-cabf0d8a492d",
   "metadata": {},
   "outputs": [],
   "source": [
    "wma_series = series.rolling(3).apply(lambda s: (s * weights).sum() / weights.sum(), raw=True)\n",
    "# wma_series._append(pd.Series([(wma_series[-3:] * (weights / weights.sum())).sum()]))"
   ]
  },
  {
   "cell_type": "code",
   "execution_count": 128,
   "id": "de93a837-55c6-49db-8c7c-fc303488c8da",
   "metadata": {},
   "outputs": [],
   "source": [
    "for _ in range(10):\n",
    "    wma_series = wma_series._append(pd.Series([(wma_series[-3:] * (weights / weights.sum())).sum()]), ignore_index=True)"
   ]
  },
  {
   "cell_type": "code",
   "execution_count": 129,
   "id": "878ea59f-dc17-40a6-8f38-f43985843818",
   "metadata": {},
   "outputs": [
    {
     "data": {
      "text/plain": [
       "0          NaN\n",
       "1          NaN\n",
       "2     1.250000\n",
       "3     1.750000\n",
       "4     1.250000\n",
       "5     1.750000\n",
       "6     1.250000\n",
       "7     1.375000\n",
       "8     1.437500\n",
       "9     1.375000\n",
       "10    1.390625\n",
       "11    1.398438\n",
       "12    1.390625\n",
       "13    1.392578\n",
       "14    1.393555\n",
       "15    1.392578\n",
       "16    1.392822\n",
       "17    1.392944\n",
       "18    1.392822\n",
       "19    1.392853\n",
       "20    1.392868\n",
       "21    1.392853\n",
       "22    1.392857\n",
       "23    1.392859\n",
       "24    1.392857\n",
       "25    1.392857\n",
       "26    1.392857\n",
       "dtype: float64"
      ]
     },
     "execution_count": 129,
     "metadata": {},
     "output_type": "execute_result"
    }
   ],
   "source": [
    "wma_series"
   ]
  },
  {
   "cell_type": "code",
   "execution_count": null,
   "id": "a84cd244-314a-442a-bc4d-55362e63f217",
   "metadata": {},
   "outputs": [],
   "source": []
  }
 ],
 "metadata": {
  "kernelspec": {
   "display_name": "Python 3 (ipykernel)",
   "language": "python",
   "name": "python3"
  },
  "language_info": {
   "codemirror_mode": {
    "name": "ipython",
    "version": 3
   },
   "file_extension": ".py",
   "mimetype": "text/x-python",
   "name": "python",
   "nbconvert_exporter": "python",
   "pygments_lexer": "ipython3",
   "version": "3.12.3"
  }
 },
 "nbformat": 4,
 "nbformat_minor": 5
}
