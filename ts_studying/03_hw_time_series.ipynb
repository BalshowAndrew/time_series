{
 "cells": [
  {
   "cell_type": "markdown",
   "id": "4579ba5b-ec9c-4b17-ab78-b931ba1830d4",
   "metadata": {
    "editable": true,
    "slideshow": {
     "slide_type": ""
    },
    "tags": []
   },
   "source": [
    "# Домашнее задание \"Модели ARMA\""
   ]
  },
  {
   "cell_type": "markdown",
   "id": "4a6df5e5-203e-4740-9f6a-fef98645a5f2",
   "metadata": {},
   "source": [
    "## Задание"
   ]
  },
  {
   "cell_type": "markdown",
   "id": "a288726c-c9bd-4aab-a451-afabc97d2a6b",
   "metadata": {},
   "source": [
    "1. Выберите ряд из первого задания.\n",
    "2. Постройте его модель ARIMA.\n",
    "3. Оформите отчёт в Jupyter-ноутбук."
   ]
  },
  {
   "cell_type": "code",
   "execution_count": null,
   "id": "4dfcee73-9d62-4ff9-bbd3-223baf2d023d",
   "metadata": {},
   "outputs": [],
   "source": []
  }
 ],
 "metadata": {
  "kernelspec": {
   "display_name": "Python 3 (ipykernel)",
   "language": "python",
   "name": "python3"
  },
  "language_info": {
   "codemirror_mode": {
    "name": "ipython",
    "version": 3
   },
   "file_extension": ".py",
   "mimetype": "text/x-python",
   "name": "python",
   "nbconvert_exporter": "python",
   "pygments_lexer": "ipython3",
   "version": "3.12.3"
  }
 },
 "nbformat": 4,
 "nbformat_minor": 5
}
