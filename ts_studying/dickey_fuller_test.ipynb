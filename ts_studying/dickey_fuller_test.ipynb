{
 "cells": [
  {
   "cell_type": "markdown",
   "id": "11e8cd7b-2e25-4f1a-8d0c-0e7de62812cb",
   "metadata": {},
   "source": [
    "# Function test_stationarity"
   ]
  },
  {
   "cell_type": "markdown",
   "id": "5bc73932-e9e7-4a99-9cca-0d871153e2f5",
   "metadata": {},
   "source": [
    "## Пример"
   ]
  },
  {
   "cell_type": "markdown",
   "id": "7b7a507b-6908-40d1-8929-de3e9155a874",
   "metadata": {},
   "source": [
    "Функция в удобоваримом виде выводит результаты выполнения теста Dickey-Fuller."
   ]
  },
  {
   "cell_type": "code",
   "execution_count": 5,
   "id": "3a7e5002-51a7-431f-b0b2-a3bcdc0d089d",
   "metadata": {},
   "outputs": [],
   "source": [
    "import numpy as np\n",
    "import pandas as pd\n",
    "import matplotlib.pyplot as plt\n",
    "%matplotlib inline\n",
    "\n",
    "from statsmodels.tsa.stattools import adfuller"
   ]
  },
  {
   "cell_type": "code",
   "execution_count": 2,
   "id": "dacdb4cd-8aff-4d92-bebc-fa3559a0edf6",
   "metadata": {},
   "outputs": [
    {
     "data": {
      "text/plain": [
       "0       41\n",
       "1       39\n",
       "2       50\n",
       "3       40\n",
       "4       43\n",
       "      ... \n",
       "113    316\n",
       "114    398\n",
       "115    394\n",
       "116    431\n",
       "117    431\n",
       "Name: Count, Length: 118, dtype: int64"
      ]
     },
     "execution_count": 2,
     "metadata": {},
     "output_type": "execute_result"
    }
   ],
   "source": [
    "series = pd.read_csv(\"Series/monthly-boston-armed-robberies-j.csv\")['Count']\n",
    "series"
   ]
  },
  {
   "cell_type": "code",
   "execution_count": 3,
   "id": "4a5b8fb4-b974-4452-93fb-d761bb37a2d2",
   "metadata": {},
   "outputs": [],
   "source": [
    "def test_stationarity(timeseries):\n",
    "    print('Results of Dickey-Fuller Test:')\n",
    "    dftest = adfuller(timeseries, autolag='AIC')\n",
    "    dfoutput = pd.Series(dftest[0:4], index=['Test Statistic', 'p-value', '#Lags Used', 'Number of Observations Used'])\n",
    "    for [key, value] in dftest[4].items():\n",
    "        dfoutput['Critical Value (%s)' % key] = value\n",
    "    print(dfoutput)"
   ]
  },
  {
   "cell_type": "code",
   "execution_count": 6,
   "id": "25079756-f069-455c-af89-623bb01502d8",
   "metadata": {},
   "outputs": [
    {
     "name": "stdout",
     "output_type": "stream",
     "text": [
      "Results of Dickey-Fuller Test:\n",
      "Test Statistic                   1.001102\n",
      "p-value                          0.994278\n",
      "#Lags Used                      11.000000\n",
      "Number of Observations Used    106.000000\n",
      "Critical Value (1%)             -3.493602\n",
      "Critical Value (5%)             -2.889217\n",
      "Critical Value (10%)            -2.581533\n",
      "dtype: float64\n"
     ]
    }
   ],
   "source": [
    "test_stationarity(series)"
   ]
  },
  {
   "cell_type": "markdown",
   "id": "b28cc661-04c7-4274-a68c-fd72fb7bfa56",
   "metadata": {},
   "source": [
    "## Разберем по полочкам:"
   ]
  },
  {
   "cell_type": "markdown",
   "id": "c5de15c5-8cd8-47e9-bbd5-871a2d7a544b",
   "metadata": {},
   "source": [
    "### adfuller()"
   ]
  },
  {
   "cell_type": "markdown",
   "id": "5bac2d20-63c3-4772-9921-82dae4b3670d",
   "metadata": {},
   "source": [
    "[statsmodels.tsa.stattools.adfuller](https://www.statsmodels.org/dev/generated/statsmodels.tsa.stattools.adfuller.html)"
   ]
  },
  {
   "cell_type": "markdown",
   "id": "2deb5e65-39c4-43d5-98db-630226d03db3",
   "metadata": {},
   "source": [
    "Эту функцию мы импротируем из модуля **statsmodels.tsa.stattools**"
   ]
  },
  {
   "cell_type": "code",
   "execution_count": 7,
   "id": "fa379222-1ced-4541-ae79-af488fe75ed9",
   "metadata": {},
   "outputs": [],
   "source": [
    "# import adfuller\n",
    "from statsmodels.tsa.stattools import adfuller"
   ]
  },
  {
   "cell_type": "markdown",
   "id": "48424b03-afd5-410d-9c76-8f01b904a160",
   "metadata": {},
   "source": [
    "Передав в качестве аргумента **series**, на выходе полуим кортеж:"
   ]
  },
  {
   "cell_type": "code",
   "execution_count": 9,
   "id": "28c27f31-5b66-4a7b-93e8-cf6910f6a2ae",
   "metadata": {},
   "outputs": [
    {
     "data": {
      "text/plain": [
       "(1.001102140245781,\n",
       " 0.994277563805723,\n",
       " 11,\n",
       " 106,\n",
       " {'1%': -3.4936021509366793,\n",
       "  '5%': -2.8892174239808703,\n",
       "  '10%': -2.58153320754717},\n",
       " 1051.4437803466026)"
      ]
     },
     "execution_count": 9,
     "metadata": {},
     "output_type": "execute_result"
    }
   ],
   "source": [
    "adfuller(series)"
   ]
  },
  {
   "cell_type": "markdown",
   "id": "9c828896-d1f7-42a5-aa67-07eb675c6c5d",
   "metadata": {},
   "source": [
    "### test_stationarity()"
   ]
  },
  {
   "cell_type": "markdown",
   "id": "2e3e2572-7402-44db-9a2b-13e8f04e477a",
   "metadata": {},
   "source": [
    "В первой части функции мы взяти только первые четыре значения кортежа и вывели на экран:"
   ]
  },
  {
   "cell_type": "code",
   "execution_count": 23,
   "id": "8051895c-713c-46ad-b41f-af4f98438e37",
   "metadata": {},
   "outputs": [],
   "source": [
    "def test_stationarity(timeseries):\n",
    "    print('Results of Dickey-Fuller Test:') # заголовок\n",
    "    dftest = adfuller(timeseries, autolag='AIC') # переменная dftest - это кортеж.\n",
    "    # На основе dftest создаем элемент типа Series:\n",
    "    dfoutput = pd.Series(dftest[0:4], index=['Test Statistic', 'p-value', '#Lags Used', 'Number of Observations Used'])\n",
    "    print(dfoutput)"
   ]
  },
  {
   "cell_type": "code",
   "execution_count": 24,
   "id": "97f32b47-5064-4924-b7be-d602fce8805a",
   "metadata": {},
   "outputs": [
    {
     "name": "stdout",
     "output_type": "stream",
     "text": [
      "Results of Dickey-Fuller Test:\n",
      "Test Statistic                   1.001102\n",
      "p-value                          0.994278\n",
      "#Lags Used                      11.000000\n",
      "Number of Observations Used    106.000000\n",
      "dtype: float64\n"
     ]
    }
   ],
   "source": [
    "test_stationarity(series)"
   ]
  },
  {
   "cell_type": "markdown",
   "id": "df236ff8-3346-46dd-aa5c-25d7c133a607",
   "metadata": {},
   "source": [
    "Затем работаем со словарем, который является пятым элементом кортежа:"
   ]
  },
  {
   "cell_type": "code",
   "execution_count": 33,
   "id": "bc67af84-2108-4fca-aa5e-004ebb707fe1",
   "metadata": {},
   "outputs": [
    {
     "data": {
      "text/plain": [
       "dict_items([('1%', -3.4936021509366793), ('5%', -2.8892174239808703), ('10%', -2.58153320754717)])"
      ]
     },
     "execution_count": 33,
     "metadata": {},
     "output_type": "execute_result"
    }
   ],
   "source": [
    "dftest = adfuller(series, autolag='AIC')\n",
    "dftest[4].items()"
   ]
  },
  {
   "cell_type": "markdown",
   "id": "33a4a91a-3151-4e1b-b689-9d6684ac36e2",
   "metadata": {},
   "source": [
    "Из словаря извлекаем ключи и значения:"
   ]
  },
  {
   "cell_type": "code",
   "execution_count": 29,
   "id": "f3650898-380f-49c7-87c7-639cfb8b514a",
   "metadata": {},
   "outputs": [
    {
     "name": "stdout",
     "output_type": "stream",
     "text": [
      "1% -3.4936021509366793\n",
      "5% -2.8892174239808703\n",
      "10% -2.58153320754717\n"
     ]
    }
   ],
   "source": [
    "dftest = adfuller(series, autolag='AIC')\n",
    "for [key, value] in dftest[4].items():\n",
    "    print(key, value)"
   ]
  },
  {
   "cell_type": "markdown",
   "id": "779a1796-971d-4e1d-a7b3-f40f4517bb21",
   "metadata": {},
   "source": [
    "Элементу Series пошагово добавляем ключ = значение, полученные из словаря:"
   ]
  },
  {
   "cell_type": "code",
   "execution_count": 42,
   "id": "9b08e00f-e5d6-40f3-b6ca-6472cf9d916f",
   "metadata": {},
   "outputs": [
    {
     "name": "stdout",
     "output_type": "stream",
     "text": [
      "Critical Value (1%)    -3.493602\n",
      "Critical Value (5%)    -2.889217\n",
      "Critical Value (10%)   -2.581533\n",
      "dtype: float64\n"
     ]
    }
   ],
   "source": [
    "dftest = adfuller(series, autolag='AIC')\n",
    "dfoutput = pd.Series() # Пустой элемент Series\n",
    "for [key, value] in dftest[4].items():\n",
    "    dfoutput['Critical Value (%s)' % key] = value\n",
    "print(dfoutput)"
   ]
  },
  {
   "cell_type": "markdown",
   "id": "cc20e6f0-dd3f-4a4b-a29e-1de8bbc72748",
   "metadata": {},
   "source": [
    "То же самое, только с помощью f-строки:"
   ]
  },
  {
   "cell_type": "code",
   "execution_count": 40,
   "id": "165077f2-123a-47b2-bc79-a9edec753bdb",
   "metadata": {},
   "outputs": [
    {
     "name": "stdout",
     "output_type": "stream",
     "text": [
      "Critical Value (1%)    -3.493602\n",
      "Critical Value (5%)    -2.889217\n",
      "Critical Value (10%)   -2.581533\n",
      "dtype: float64\n"
     ]
    }
   ],
   "source": [
    "dftest = adfuller(series, autolag='AIC')\n",
    "dfoutput = pd.Series()\n",
    "for [key, value] in dftest[4].items():\n",
    "    dfoutput[f'Critical Value ({key})'] = value\n",
    "print(dfoutput)"
   ]
  },
  {
   "cell_type": "code",
   "execution_count": null,
   "id": "942105c0-4dbf-4186-ac1f-d432de9359fb",
   "metadata": {},
   "outputs": [],
   "source": []
  }
 ],
 "metadata": {
  "kernelspec": {
   "display_name": "Python 3 (ipykernel)",
   "language": "python",
   "name": "python3"
  },
  "language_info": {
   "codemirror_mode": {
    "name": "ipython",
    "version": 3
   },
   "file_extension": ".py",
   "mimetype": "text/x-python",
   "name": "python",
   "nbconvert_exporter": "python",
   "pygments_lexer": "ipython3",
   "version": "3.12.3"
  }
 },
 "nbformat": 4,
 "nbformat_minor": 5
}
